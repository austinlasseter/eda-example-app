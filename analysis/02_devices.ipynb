{
 "cells": [
  {
   "cell_type": "markdown",
   "metadata": {},
   "source": [
    "# Data Exploration - Device Level"
   ]
  },
  {
   "cell_type": "code",
   "execution_count": 1,
   "metadata": {},
   "outputs": [],
   "source": [
    "import pandas as pd\n",
    "import numpy as np\n",
    "from pathlib import Path\n",
    "import re\n",
    "import pickle"
   ]
  },
  {
   "cell_type": "code",
   "execution_count": 2,
   "metadata": {},
   "outputs": [
    {
     "data": {
      "text/html": [
       "<script type=\"text/javascript\">window.PlotlyConfig = {MathJaxConfig: 'local'};</script><script type=\"text/javascript\">if (window.MathJax) {MathJax.Hub.Config({SVG: {font: \"STIX-Web\"}});}</script><script>requirejs.config({paths: { 'plotly': ['https://cdn.plot.ly/plotly-latest.min']},});if(!window._Plotly) {require(['plotly'],function(plotly) {window._Plotly=plotly;});}</script>"
      ],
      "text/vnd.plotly.v1+html": [
       "<script type=\"text/javascript\">window.PlotlyConfig = {MathJaxConfig: 'local'};</script><script type=\"text/javascript\">if (window.MathJax) {MathJax.Hub.Config({SVG: {font: \"STIX-Web\"}});}</script><script>requirejs.config({paths: { 'plotly': ['https://cdn.plot.ly/plotly-latest.min']},});if(!window._Plotly) {require(['plotly'],function(plotly) {window._Plotly=plotly;});}</script>"
      ]
     },
     "metadata": {},
     "output_type": "display_data"
    }
   ],
   "source": [
    "from plotly.offline import download_plotlyjs, init_notebook_mode, plot, iplot\n",
    "init_notebook_mode(connected=True)\n",
    "import plotly.io as pio\n",
    "import plotly.plotly as py\n",
    "import plotly.graph_objs as go\n",
    "from plotly.graph_objs import *"
   ]
  },
  {
   "cell_type": "code",
   "execution_count": 3,
   "metadata": {},
   "outputs": [],
   "source": [
    "# Define the color palette.\n",
    "Viridis= ['#440154', '#48186a', '#472d7b', '#424086', '#3b528b', '#33638d', '#2c728e', '#26828e', '#21918c', '#1fa088',\n",
    "          '#28ae80', '#3fbc73', '#5ec962', '#84d44b', '#addc30','#d8e219', '#fde725']   "
   ]
  },
  {
   "cell_type": "code",
   "execution_count": 4,
   "metadata": {},
   "outputs": [
    {
     "name": "stdout",
     "output_type": "stream",
     "text": [
      "(124164, 11)\n"
     ]
    }
   ],
   "source": [
    "# read clean datafile\n",
    "df = pd.read_csv('../data/dataset1.gz', compression='gzip', header=0, sep=',', quotechar='\"')\n",
    "print(df.shape)"
   ]
  },
  {
   "cell_type": "code",
   "execution_count": 5,
   "metadata": {},
   "outputs": [
    {
     "name": "stdout",
     "output_type": "stream",
     "text": [
      "object\n"
     ]
    },
    {
     "data": {
      "text/plain": [
       "dtype('<M8[ns]')"
      ]
     },
     "execution_count": 5,
     "metadata": {},
     "output_type": "execute_result"
    }
   ],
   "source": [
    "# The dates are coded as strings.\n",
    "print(df['date'].dtype)\n",
    "# Replace this.\n",
    "df['date']=pd.to_datetime(df['date'],infer_datetime_format=True)\n",
    "df['date'].dtype"
   ]
  },
  {
   "cell_type": "markdown",
   "metadata": {},
   "source": [
    "## Group on device ID, keep max value"
   ]
  },
  {
   "cell_type": "code",
   "execution_count": 6,
   "metadata": {},
   "outputs": [
    {
     "name": "stdout",
     "output_type": "stream",
     "text": [
      "(1163, 3)\n"
     ]
    }
   ],
   "source": [
    "# creates new dataframe: one row for each device (reduces dimensions from 124K to 1163)\n",
    "dfmax=df.groupby('device').max().reset_index(drop=False)\n",
    "dfmax=dfmax[['device', 'date', 'failure']]\n",
    "print(dfmax.shape)"
   ]
  },
  {
   "cell_type": "code",
   "execution_count": 7,
   "metadata": {},
   "outputs": [
    {
     "data": {
      "text/plain": [
       "['S1F023H2', 'S1F03YZM', 'S1F09DZQ', 'S1F0CTDN']"
      ]
     },
     "execution_count": 7,
     "metadata": {},
     "output_type": "execute_result"
    }
   ],
   "source": [
    "# Make a list of devices that eventually failed.\n",
    "fails=list(dfmax.loc[dfmax['failure']==1]['device'])\n",
    "fails[:4]"
   ]
  },
  {
   "cell_type": "markdown",
   "metadata": {},
   "source": [
    "## Create a variable for device prefix types"
   ]
  },
  {
   "cell_type": "code",
   "execution_count": 8,
   "metadata": {},
   "outputs": [
    {
     "data": {
      "text/html": [
       "<div>\n",
       "<style>\n",
       "    .dataframe thead tr:only-child th {\n",
       "        text-align: right;\n",
       "    }\n",
       "\n",
       "    .dataframe thead th {\n",
       "        text-align: left;\n",
       "    }\n",
       "\n",
       "    .dataframe tbody tr th {\n",
       "        vertical-align: top;\n",
       "    }\n",
       "</style>\n",
       "<table border=\"1\" class=\"dataframe\">\n",
       "  <thead>\n",
       "    <tr style=\"text-align: right;\">\n",
       "      <th></th>\n",
       "      <th>device</th>\n",
       "      <th>date</th>\n",
       "      <th>failure</th>\n",
       "    </tr>\n",
       "  </thead>\n",
       "  <tbody>\n",
       "    <tr>\n",
       "      <th>0</th>\n",
       "      <td>S1F01085</td>\n",
       "      <td>2015-01-06</td>\n",
       "      <td>0</td>\n",
       "    </tr>\n",
       "    <tr>\n",
       "      <th>1</th>\n",
       "      <td>S1F0166B</td>\n",
       "      <td>2015-01-06</td>\n",
       "      <td>0</td>\n",
       "    </tr>\n",
       "    <tr>\n",
       "      <th>2</th>\n",
       "      <td>S1F01E6Y</td>\n",
       "      <td>2015-02-17</td>\n",
       "      <td>0</td>\n",
       "    </tr>\n",
       "    <tr>\n",
       "      <th>3</th>\n",
       "      <td>S1F01JE0</td>\n",
       "      <td>2015-01-06</td>\n",
       "      <td>0</td>\n",
       "    </tr>\n",
       "    <tr>\n",
       "      <th>4</th>\n",
       "      <td>S1F01R2B</td>\n",
       "      <td>2015-08-24</td>\n",
       "      <td>0</td>\n",
       "    </tr>\n",
       "  </tbody>\n",
       "</table>\n",
       "</div>"
      ],
      "text/plain": [
       "     device       date  failure\n",
       "0  S1F01085 2015-01-06        0\n",
       "1  S1F0166B 2015-01-06        0\n",
       "2  S1F01E6Y 2015-02-17        0\n",
       "3  S1F01JE0 2015-01-06        0\n",
       "4  S1F01R2B 2015-08-24        0"
      ]
     },
     "execution_count": 8,
     "metadata": {},
     "output_type": "execute_result"
    }
   ],
   "source": [
    "dfmax.head()"
   ]
  },
  {
   "cell_type": "code",
   "execution_count": 9,
   "metadata": {},
   "outputs": [
    {
     "data": {
      "text/plain": [
       "S1F0    387\n",
       "W1F0    281\n",
       "Z1F0    149\n",
       "S1F1    139\n",
       "W1F1    137\n",
       "Z1F1     70\n",
       "Name: prefix, dtype: int64"
      ]
     },
     "execution_count": 9,
     "metadata": {},
     "output_type": "execute_result"
    }
   ],
   "source": [
    "# We can group devices into 6 categories based on their device ID code\n",
    "dfmax['prefix']=dfmax['device'].apply(lambda row: row[:4])\n",
    "dfmax['prefix']=dfmax['prefix'].apply(lambda row: 'Z1F1' if row == 'Z1F2' else row)\n",
    "dfmax['prefix'].value_counts()"
   ]
  },
  {
   "cell_type": "code",
   "execution_count": 10,
   "metadata": {},
   "outputs": [],
   "source": [
    "df_prefix=dfmax[['device', 'prefix']]"
   ]
  },
  {
   "cell_type": "code",
   "execution_count": 11,
   "metadata": {},
   "outputs": [
    {
     "name": "stdout",
     "output_type": "stream",
     "text": [
      "(124164, 11)\n",
      "(124164, 12)\n"
     ]
    }
   ],
   "source": [
    "# Copy that variable into the primary dataset\n",
    "print(df.shape)\n",
    "df_prefix\n",
    "df=pd.merge(df, df_prefix, on='device', how='left')\n",
    "print(df.shape)"
   ]
  },
  {
   "cell_type": "markdown",
   "metadata": {},
   "source": [
    "## Devices removed early"
   ]
  },
  {
   "cell_type": "code",
   "execution_count": 12,
   "metadata": {},
   "outputs": [
    {
     "data": {
      "text/plain": [
       "313"
      ]
     },
     "execution_count": 12,
     "metadata": {},
     "output_type": "execute_result"
    }
   ],
   "source": [
    "# Over 300 devices are taken from the log in the first 5-6 days. These are outliers and should be removed.\n",
    "dfmax.loc[dfmax['date']<'01-07-2015'].shape[0]"
   ]
  },
  {
   "cell_type": "code",
   "execution_count": 13,
   "metadata": {},
   "outputs": [
    {
     "data": {
      "text/plain": [
       "2015-01-03      1\n",
       "2015-01-04      1\n",
       "2015-01-05    106\n",
       "2015-01-06    205\n",
       "2015-01-07     42\n",
       "2015-01-09      1\n",
       "2015-01-13     23\n",
       "2015-01-14      1\n",
       "2015-01-17      1\n",
       "2015-01-18      1\n",
       "Name: date, dtype: int64"
      ]
     },
     "execution_count": 13,
     "metadata": {},
     "output_type": "execute_result"
    }
   ],
   "source": [
    "# Looks like January 7th was a watershed moment.\n",
    "dfmax['date'].value_counts().sort_index().head(10)"
   ]
  },
  {
   "cell_type": "code",
   "execution_count": 14,
   "metadata": {},
   "outputs": [
    {
     "data": {
      "text/plain": [
       "1"
      ]
     },
     "execution_count": 14,
     "metadata": {},
     "output_type": "execute_result"
    }
   ],
   "source": [
    "# Did any of these early losers actually fail? Yes, one.\n",
    "dfmax.loc[dfmax['date']<'01-07-2015']['failure'].sum()"
   ]
  },
  {
   "cell_type": "code",
   "execution_count": 15,
   "metadata": {},
   "outputs": [
    {
     "name": "stdout",
     "output_type": "stream",
     "text": [
      "       device       date  failure prefix\n",
      "235  S1F0RRB1 2015-01-05        1   S1F0\n"
     ]
    },
    {
     "data": {
      "text/html": [
       "<div>\n",
       "<style>\n",
       "    .dataframe thead tr:only-child th {\n",
       "        text-align: right;\n",
       "    }\n",
       "\n",
       "    .dataframe thead th {\n",
       "        text-align: left;\n",
       "    }\n",
       "\n",
       "    .dataframe tbody tr th {\n",
       "        vertical-align: top;\n",
       "    }\n",
       "</style>\n",
       "<table border=\"1\" class=\"dataframe\">\n",
       "  <thead>\n",
       "    <tr style=\"text-align: right;\">\n",
       "      <th></th>\n",
       "      <th>date</th>\n",
       "      <th>device</th>\n",
       "      <th>failure</th>\n",
       "      <th>attribute1</th>\n",
       "      <th>attribute2</th>\n",
       "      <th>attribute3</th>\n",
       "      <th>attribute4</th>\n",
       "      <th>attribute5</th>\n",
       "      <th>attribute6</th>\n",
       "      <th>attribute7</th>\n",
       "      <th>attribute9</th>\n",
       "      <th>prefix</th>\n",
       "    </tr>\n",
       "  </thead>\n",
       "  <tbody>\n",
       "    <tr>\n",
       "      <th>18392</th>\n",
       "      <td>2015-01-01</td>\n",
       "      <td>S1F0RRB1</td>\n",
       "      <td>0</td>\n",
       "      <td>5230888</td>\n",
       "      <td>2288</td>\n",
       "      <td>0</td>\n",
       "      <td>37</td>\n",
       "      <td>8</td>\n",
       "      <td>39267</td>\n",
       "      <td>24</td>\n",
       "      <td>1</td>\n",
       "      <td>S1F0</td>\n",
       "    </tr>\n",
       "    <tr>\n",
       "      <th>18393</th>\n",
       "      <td>2015-01-02</td>\n",
       "      <td>S1F0RRB1</td>\n",
       "      <td>0</td>\n",
       "      <td>13307628</td>\n",
       "      <td>64776</td>\n",
       "      <td>0</td>\n",
       "      <td>49</td>\n",
       "      <td>8</td>\n",
       "      <td>39267</td>\n",
       "      <td>56</td>\n",
       "      <td>1</td>\n",
       "      <td>S1F0</td>\n",
       "    </tr>\n",
       "    <tr>\n",
       "      <th>18394</th>\n",
       "      <td>2015-01-03</td>\n",
       "      <td>S1F0RRB1</td>\n",
       "      <td>0</td>\n",
       "      <td>26258330</td>\n",
       "      <td>64776</td>\n",
       "      <td>0</td>\n",
       "      <td>135</td>\n",
       "      <td>8</td>\n",
       "      <td>39267</td>\n",
       "      <td>56</td>\n",
       "      <td>1</td>\n",
       "      <td>S1F0</td>\n",
       "    </tr>\n",
       "    <tr>\n",
       "      <th>18395</th>\n",
       "      <td>2015-01-04</td>\n",
       "      <td>S1F0RRB1</td>\n",
       "      <td>0</td>\n",
       "      <td>37985862</td>\n",
       "      <td>64776</td>\n",
       "      <td>0</td>\n",
       "      <td>763</td>\n",
       "      <td>8</td>\n",
       "      <td>39267</td>\n",
       "      <td>56</td>\n",
       "      <td>1</td>\n",
       "      <td>S1F0</td>\n",
       "    </tr>\n",
       "    <tr>\n",
       "      <th>18396</th>\n",
       "      <td>2015-01-05</td>\n",
       "      <td>S1F0RRB1</td>\n",
       "      <td>1</td>\n",
       "      <td>48467332</td>\n",
       "      <td>64776</td>\n",
       "      <td>0</td>\n",
       "      <td>841</td>\n",
       "      <td>8</td>\n",
       "      <td>39267</td>\n",
       "      <td>56</td>\n",
       "      <td>1</td>\n",
       "      <td>S1F0</td>\n",
       "    </tr>\n",
       "  </tbody>\n",
       "</table>\n",
       "</div>"
      ],
      "text/plain": [
       "            date    device  failure  attribute1  attribute2  attribute3  \\\n",
       "18392 2015-01-01  S1F0RRB1        0     5230888        2288           0   \n",
       "18393 2015-01-02  S1F0RRB1        0    13307628       64776           0   \n",
       "18394 2015-01-03  S1F0RRB1        0    26258330       64776           0   \n",
       "18395 2015-01-04  S1F0RRB1        0    37985862       64776           0   \n",
       "18396 2015-01-05  S1F0RRB1        1    48467332       64776           0   \n",
       "\n",
       "       attribute4  attribute5  attribute6  attribute7  attribute9 prefix  \n",
       "18392          37           8       39267          24           1   S1F0  \n",
       "18393          49           8       39267          56           1   S1F0  \n",
       "18394         135           8       39267          56           1   S1F0  \n",
       "18395         763           8       39267          56           1   S1F0  \n",
       "18396         841           8       39267          56           1   S1F0  "
      ]
     },
     "execution_count": 15,
     "metadata": {},
     "output_type": "execute_result"
    }
   ],
   "source": [
    "# Looks like S1F0RRB1 was an early failure.\n",
    "print(dfmax.loc[(dfmax['date']<'01-07-2015') & (dfmax['failure']==1)])\n",
    "# Looks like this actually had some good data going for it. Let's not delete it.\n",
    "df.loc[df['device']=='S1F0RRB1']"
   ]
  },
  {
   "cell_type": "code",
   "execution_count": 16,
   "metadata": {},
   "outputs": [
    {
     "data": {
      "text/plain": [
       "312"
      ]
     },
     "execution_count": 16,
     "metadata": {},
     "output_type": "execute_result"
    }
   ],
   "source": [
    "# Make a list of all the other early losers, and remove them from the primary dataset.\n",
    "early_losers=list(dfmax.loc[(dfmax['date']<'01-07-2015') & (dfmax['failure']==0)]['device'])\n",
    "len(early_losers)"
   ]
  },
  {
   "cell_type": "code",
   "execution_count": 17,
   "metadata": {},
   "outputs": [
    {
     "name": "stdout",
     "output_type": "stream",
     "text": [
      "124164\n",
      "122402\n"
     ]
    }
   ],
   "source": [
    "print(df.shape[0])\n",
    "df=df.loc[~df['device'].isin(early_losers)]\n",
    "print(df.shape[0])"
   ]
  },
  {
   "cell_type": "code",
   "execution_count": 18,
   "metadata": {},
   "outputs": [
    {
     "data": {
      "text/plain": [
       "851"
      ]
     },
     "execution_count": 18,
     "metadata": {},
     "output_type": "execute_result"
    }
   ],
   "source": [
    "# Number of unique devices has dropped from 1163\n",
    "devices=df.groupby('device').max().reset_index(drop=False)\n",
    "len(devices)"
   ]
  },
  {
   "cell_type": "markdown",
   "metadata": {},
   "source": [
    "## Features with very little variance"
   ]
  },
  {
   "cell_type": "code",
   "execution_count": 19,
   "metadata": {},
   "outputs": [],
   "source": [
    "# std dev of all attributes\n",
    "dfsd=df.groupby('device').std().reset_index(drop=False)\n",
    "dfsd=dfsd[['attribute1', 'attribute2', 'attribute3', 'attribute4',\n",
    "       'attribute5', 'attribute6', 'attribute7', 'attribute9']]"
   ]
  },
  {
   "cell_type": "code",
   "execution_count": 20,
   "metadata": {},
   "outputs": [
    {
     "data": {
      "text/plain": [
       "(851, 2)"
      ]
     },
     "execution_count": 20,
     "metadata": {},
     "output_type": "execute_result"
    }
   ],
   "source": [
    "# list of failed devices\n",
    "dffailed=df.groupby('device')['failure'].max().reset_index(drop=False)\n",
    "dffailed.shape"
   ]
  },
  {
   "cell_type": "code",
   "execution_count": 21,
   "metadata": {},
   "outputs": [],
   "source": [
    "dfsmall=pd.concat([dffailed, dfsd], axis=1)"
   ]
  },
  {
   "cell_type": "code",
   "execution_count": 22,
   "metadata": {},
   "outputs": [
    {
     "data": {
      "text/html": [
       "<div>\n",
       "<style>\n",
       "    .dataframe thead tr:only-child th {\n",
       "        text-align: right;\n",
       "    }\n",
       "\n",
       "    .dataframe thead th {\n",
       "        text-align: left;\n",
       "    }\n",
       "\n",
       "    .dataframe tbody tr th {\n",
       "        vertical-align: top;\n",
       "    }\n",
       "</style>\n",
       "<table border=\"1\" class=\"dataframe\">\n",
       "  <thead>\n",
       "    <tr style=\"text-align: right;\">\n",
       "      <th></th>\n",
       "      <th>device</th>\n",
       "      <th>failure</th>\n",
       "      <th>attribute1</th>\n",
       "      <th>attribute2</th>\n",
       "      <th>attribute3</th>\n",
       "      <th>attribute4</th>\n",
       "      <th>attribute5</th>\n",
       "      <th>attribute6</th>\n",
       "      <th>attribute7</th>\n",
       "      <th>attribute9</th>\n",
       "    </tr>\n",
       "  </thead>\n",
       "  <tbody>\n",
       "    <tr>\n",
       "      <th>0</th>\n",
       "      <td>S1F01E6Y</td>\n",
       "      <td>0</td>\n",
       "      <td>6.818503e+07</td>\n",
       "      <td>0.0</td>\n",
       "      <td>0.0</td>\n",
       "      <td>0.0</td>\n",
       "      <td>0.000000</td>\n",
       "      <td>6645.807521</td>\n",
       "      <td>0.0</td>\n",
       "      <td>0.0</td>\n",
       "    </tr>\n",
       "    <tr>\n",
       "      <th>1</th>\n",
       "      <td>S1F01R2B</td>\n",
       "      <td>0</td>\n",
       "      <td>6.801784e+07</td>\n",
       "      <td>0.0</td>\n",
       "      <td>0.0</td>\n",
       "      <td>0.0</td>\n",
       "      <td>0.892202</td>\n",
       "      <td>4734.057185</td>\n",
       "      <td>0.0</td>\n",
       "      <td>0.0</td>\n",
       "    </tr>\n",
       "    <tr>\n",
       "      <th>2</th>\n",
       "      <td>S1F01XDJ</td>\n",
       "      <td>0</td>\n",
       "      <td>7.639078e+07</td>\n",
       "      <td>0.0</td>\n",
       "      <td>0.0</td>\n",
       "      <td>0.0</td>\n",
       "      <td>0.000000</td>\n",
       "      <td>4716.175787</td>\n",
       "      <td>0.0</td>\n",
       "      <td>0.0</td>\n",
       "    </tr>\n",
       "    <tr>\n",
       "      <th>3</th>\n",
       "      <td>S1F023H2</td>\n",
       "      <td>1</td>\n",
       "      <td>7.670866e+07</td>\n",
       "      <td>0.0</td>\n",
       "      <td>0.0</td>\n",
       "      <td>0.0</td>\n",
       "      <td>0.000000</td>\n",
       "      <td>6423.425129</td>\n",
       "      <td>0.0</td>\n",
       "      <td>0.0</td>\n",
       "    </tr>\n",
       "    <tr>\n",
       "      <th>4</th>\n",
       "      <td>S1F02A0J</td>\n",
       "      <td>0</td>\n",
       "      <td>7.331296e+07</td>\n",
       "      <td>0.0</td>\n",
       "      <td>0.0</td>\n",
       "      <td>0.0</td>\n",
       "      <td>0.410241</td>\n",
       "      <td>8647.460767</td>\n",
       "      <td>0.0</td>\n",
       "      <td>0.0</td>\n",
       "    </tr>\n",
       "  </tbody>\n",
       "</table>\n",
       "</div>"
      ],
      "text/plain": [
       "     device  failure    attribute1  attribute2  attribute3  attribute4  \\\n",
       "0  S1F01E6Y        0  6.818503e+07         0.0         0.0         0.0   \n",
       "1  S1F01R2B        0  6.801784e+07         0.0         0.0         0.0   \n",
       "2  S1F01XDJ        0  7.639078e+07         0.0         0.0         0.0   \n",
       "3  S1F023H2        1  7.670866e+07         0.0         0.0         0.0   \n",
       "4  S1F02A0J        0  7.331296e+07         0.0         0.0         0.0   \n",
       "\n",
       "   attribute5   attribute6  attribute7  attribute9  \n",
       "0    0.000000  6645.807521         0.0         0.0  \n",
       "1    0.892202  4734.057185         0.0         0.0  \n",
       "2    0.000000  4716.175787         0.0         0.0  \n",
       "3    0.000000  6423.425129         0.0         0.0  \n",
       "4    0.410241  8647.460767         0.0         0.0  "
      ]
     },
     "execution_count": 22,
     "metadata": {},
     "output_type": "execute_result"
    }
   ],
   "source": [
    "dfsmall.head()"
   ]
  },
  {
   "cell_type": "code",
   "execution_count": 23,
   "metadata": {},
   "outputs": [],
   "source": [
    "# Calculate whether an attribute has zero variance for a given device.\n",
    "for col in ['attribute1', 'attribute2', 'attribute3', 'attribute4',\n",
    "       'attribute5', 'attribute6', 'attribute7', 'attribute9']:\n",
    "    dfsmall['novar_'+col]=0\n",
    "    dfsmall.loc[dfsmall[col]==0, 'novar_'+col]=1"
   ]
  },
  {
   "cell_type": "code",
   "execution_count": 24,
   "metadata": {},
   "outputs": [
    {
     "data": {
      "text/html": [
       "<div>\n",
       "<style>\n",
       "    .dataframe thead tr:only-child th {\n",
       "        text-align: right;\n",
       "    }\n",
       "\n",
       "    .dataframe thead th {\n",
       "        text-align: left;\n",
       "    }\n",
       "\n",
       "    .dataframe tbody tr th {\n",
       "        vertical-align: top;\n",
       "    }\n",
       "</style>\n",
       "<table border=\"1\" class=\"dataframe\">\n",
       "  <thead>\n",
       "    <tr style=\"text-align: right;\">\n",
       "      <th></th>\n",
       "      <th>novar_attribute2</th>\n",
       "      <th>novar_attribute3</th>\n",
       "      <th>novar_attribute4</th>\n",
       "      <th>novar_attribute5</th>\n",
       "      <th>novar_attribute6</th>\n",
       "      <th>novar_attribute7</th>\n",
       "      <th>novar_attribute9</th>\n",
       "      <th>failure</th>\n",
       "    </tr>\n",
       "  </thead>\n",
       "  <tbody>\n",
       "    <tr>\n",
       "      <th>novar_attribute2</th>\n",
       "      <td>1.000000</td>\n",
       "      <td>0.046097</td>\n",
       "      <td>0.392979</td>\n",
       "      <td>0.002456</td>\n",
       "      <td>-0.021911</td>\n",
       "      <td>0.303040</td>\n",
       "      <td>0.039278</td>\n",
       "      <td>-0.406620</td>\n",
       "    </tr>\n",
       "    <tr>\n",
       "      <th>novar_attribute3</th>\n",
       "      <td>0.046097</td>\n",
       "      <td>1.000000</td>\n",
       "      <td>0.044756</td>\n",
       "      <td>0.085749</td>\n",
       "      <td>-0.039950</td>\n",
       "      <td>0.064203</td>\n",
       "      <td>0.241613</td>\n",
       "      <td>0.004210</td>\n",
       "    </tr>\n",
       "    <tr>\n",
       "      <th>novar_attribute4</th>\n",
       "      <td>0.392979</td>\n",
       "      <td>0.044756</td>\n",
       "      <td>1.000000</td>\n",
       "      <td>0.095409</td>\n",
       "      <td>-0.020084</td>\n",
       "      <td>0.473711</td>\n",
       "      <td>0.018529</td>\n",
       "      <td>-0.508201</td>\n",
       "    </tr>\n",
       "    <tr>\n",
       "      <th>novar_attribute5</th>\n",
       "      <td>0.002456</td>\n",
       "      <td>0.085749</td>\n",
       "      <td>0.095409</td>\n",
       "      <td>1.000000</td>\n",
       "      <td>0.153448</td>\n",
       "      <td>0.083130</td>\n",
       "      <td>0.114314</td>\n",
       "      <td>-0.052461</td>\n",
       "    </tr>\n",
       "    <tr>\n",
       "      <th>novar_attribute6</th>\n",
       "      <td>-0.021911</td>\n",
       "      <td>-0.039950</td>\n",
       "      <td>-0.020084</td>\n",
       "      <td>0.153448</td>\n",
       "      <td>1.000000</td>\n",
       "      <td>0.003542</td>\n",
       "      <td>-0.040514</td>\n",
       "      <td>0.000264</td>\n",
       "    </tr>\n",
       "    <tr>\n",
       "      <th>novar_attribute7</th>\n",
       "      <td>0.303040</td>\n",
       "      <td>0.064203</td>\n",
       "      <td>0.473711</td>\n",
       "      <td>0.083130</td>\n",
       "      <td>0.003542</td>\n",
       "      <td>1.000000</td>\n",
       "      <td>0.047457</td>\n",
       "      <td>-0.439856</td>\n",
       "    </tr>\n",
       "    <tr>\n",
       "      <th>novar_attribute9</th>\n",
       "      <td>0.039278</td>\n",
       "      <td>0.241613</td>\n",
       "      <td>0.018529</td>\n",
       "      <td>0.114314</td>\n",
       "      <td>-0.040514</td>\n",
       "      <td>0.047457</td>\n",
       "      <td>1.000000</td>\n",
       "      <td>-0.045483</td>\n",
       "    </tr>\n",
       "    <tr>\n",
       "      <th>failure</th>\n",
       "      <td>-0.406620</td>\n",
       "      <td>0.004210</td>\n",
       "      <td>-0.508201</td>\n",
       "      <td>-0.052461</td>\n",
       "      <td>0.000264</td>\n",
       "      <td>-0.439856</td>\n",
       "      <td>-0.045483</td>\n",
       "      <td>1.000000</td>\n",
       "    </tr>\n",
       "  </tbody>\n",
       "</table>\n",
       "</div>"
      ],
      "text/plain": [
       "                  novar_attribute2  novar_attribute3  novar_attribute4  \\\n",
       "novar_attribute2          1.000000          0.046097          0.392979   \n",
       "novar_attribute3          0.046097          1.000000          0.044756   \n",
       "novar_attribute4          0.392979          0.044756          1.000000   \n",
       "novar_attribute5          0.002456          0.085749          0.095409   \n",
       "novar_attribute6         -0.021911         -0.039950         -0.020084   \n",
       "novar_attribute7          0.303040          0.064203          0.473711   \n",
       "novar_attribute9          0.039278          0.241613          0.018529   \n",
       "failure                  -0.406620          0.004210         -0.508201   \n",
       "\n",
       "                  novar_attribute5  novar_attribute6  novar_attribute7  \\\n",
       "novar_attribute2          0.002456         -0.021911          0.303040   \n",
       "novar_attribute3          0.085749         -0.039950          0.064203   \n",
       "novar_attribute4          0.095409         -0.020084          0.473711   \n",
       "novar_attribute5          1.000000          0.153448          0.083130   \n",
       "novar_attribute6          0.153448          1.000000          0.003542   \n",
       "novar_attribute7          0.083130          0.003542          1.000000   \n",
       "novar_attribute9          0.114314         -0.040514          0.047457   \n",
       "failure                  -0.052461          0.000264         -0.439856   \n",
       "\n",
       "                  novar_attribute9   failure  \n",
       "novar_attribute2          0.039278 -0.406620  \n",
       "novar_attribute3          0.241613  0.004210  \n",
       "novar_attribute4          0.018529 -0.508201  \n",
       "novar_attribute5          0.114314 -0.052461  \n",
       "novar_attribute6         -0.040514  0.000264  \n",
       "novar_attribute7          0.047457 -0.439856  \n",
       "novar_attribute9          1.000000 -0.045483  \n",
       "failure                  -0.045483  1.000000  "
      ]
     },
     "execution_count": 24,
     "metadata": {},
     "output_type": "execute_result"
    }
   ],
   "source": [
    "corrs = pd.DataFrame(dfsmall[['novar_attribute2', 'novar_attribute3', 'novar_attribute4',\n",
    "       'novar_attribute5', 'novar_attribute6', 'novar_attribute7', 'novar_attribute9', 'failure']].corr())\n",
    "corrs\n",
    "# There's neg correlation between failure and zero variance in attributes 2, 4, and 7.\n",
    "# Devices with non-zero variance were more likely to fail."
   ]
  },
  {
   "cell_type": "code",
   "execution_count": 25,
   "metadata": {},
   "outputs": [
    {
     "data": {
      "application/vnd.plotly.v1+json": {
       "config": {
        "linkText": "Export to plot.ly",
        "plotlyServerURL": "https://plot.ly",
        "showLink": false
       },
       "data": [
        {
         "colorscale": "Viridis",
         "type": "heatmap",
         "uid": "19655e1c-7964-4b83-8c36-56bde8870b55",
         "x": [
          "novar_attribute2",
          "novar_attribute3",
          "novar_attribute4",
          "novar_attribute5",
          "novar_attribute6",
          "novar_attribute7",
          "novar_attribute9",
          "failure"
         ],
         "y": [
          "novar_attribute2",
          "novar_attribute3",
          "novar_attribute4",
          "novar_attribute5",
          "novar_attribute6",
          "novar_attribute7",
          "novar_attribute9",
          "failure"
         ],
         "z": [
          [
           1,
           0.0460971587728061,
           0.39297850398100914,
           0.002455814522014325,
           -0.021911139825945933,
           0.3030403559793827,
           0.03927773291466085,
           -0.40661964300088105
          ],
          [
           0.0460971587728061,
           1,
           0.044755629272966176,
           0.08574877926748782,
           -0.039949758135196495,
           0.06420322963956149,
           0.2416126087401465,
           0.004210453304503587
          ],
          [
           0.39297850398100914,
           0.044755629272966176,
           1,
           0.0954091019613816,
           -0.02008404645203337,
           0.47371065602482954,
           0.01852943824831943,
           -0.5082009402230283
          ],
          [
           0.002455814522014325,
           0.08574877926748782,
           0.0954091019613816,
           1,
           0.1534478355517057,
           0.08312996536664785,
           0.11431380199673248,
           -0.05246092183076486
          ],
          [
           -0.021911139825945933,
           -0.039949758135196495,
           -0.02008404645203337,
           0.1534478355517057,
           1,
           0.003542380525057799,
           -0.0405144973208297,
           0.000263774760268633
          ],
          [
           0.3030403559793827,
           0.06420322963956149,
           0.47371065602482954,
           0.08312996536664785,
           0.003542380525057799,
           1,
           0.04745694616139672,
           -0.439856427944862
          ],
          [
           0.03927773291466085,
           0.2416126087401465,
           0.01852943824831943,
           0.11431380199673248,
           -0.0405144973208297,
           0.04745694616139672,
           1,
           -0.045482602938295744
          ],
          [
           -0.40661964300088105,
           0.004210453304503587,
           -0.5082009402230283,
           -0.05246092183076486,
           0.000263774760268633,
           -0.439856427944862,
           -0.045482602938295744,
           1
          ]
         ]
        }
       ],
       "layout": {
        "title": {
         "text": "Heatmap of attributes' variance and failure"
        }
       }
      },
      "text/html": [
       "<div id=\"dac9453d-d62b-4167-a583-0e4f733d4f2c\" style=\"height: 525px; width: 100%;\" class=\"plotly-graph-div\"></div><script type=\"text/javascript\">require([\"plotly\"], function(Plotly) { window.PLOTLYENV=window.PLOTLYENV || {};window.PLOTLYENV.BASE_URL=\"https://plot.ly\";\n",
       "if (document.getElementById(\"dac9453d-d62b-4167-a583-0e4f733d4f2c\")) {\n",
       "    Plotly.newPlot(\"dac9453d-d62b-4167-a583-0e4f733d4f2c\", [{\"colorscale\": \"Viridis\", \"x\": [\"novar_attribute2\", \"novar_attribute3\", \"novar_attribute4\", \"novar_attribute5\", \"novar_attribute6\", \"novar_attribute7\", \"novar_attribute9\", \"failure\"], \"y\": [\"novar_attribute2\", \"novar_attribute3\", \"novar_attribute4\", \"novar_attribute5\", \"novar_attribute6\", \"novar_attribute7\", \"novar_attribute9\", \"failure\"], \"z\": [[1.0, 0.0460971587728061, 0.39297850398100914, 0.002455814522014325, -0.021911139825945933, 0.3030403559793827, 0.03927773291466085, -0.40661964300088105], [0.0460971587728061, 1.0, 0.044755629272966176, 0.08574877926748782, -0.039949758135196495, 0.06420322963956149, 0.2416126087401465, 0.004210453304503587], [0.39297850398100914, 0.044755629272966176, 1.0, 0.0954091019613816, -0.02008404645203337, 0.47371065602482954, 0.01852943824831943, -0.5082009402230283], [0.002455814522014325, 0.08574877926748782, 0.0954091019613816, 1.0, 0.1534478355517057, 0.08312996536664785, 0.11431380199673248, -0.05246092183076486], [-0.021911139825945933, -0.039949758135196495, -0.02008404645203337, 0.1534478355517057, 1.0, 0.003542380525057799, -0.0405144973208297, 0.000263774760268633], [0.3030403559793827, 0.06420322963956149, 0.47371065602482954, 0.08312996536664785, 0.003542380525057799, 1.0, 0.04745694616139672, -0.439856427944862], [0.03927773291466085, 0.2416126087401465, 0.01852943824831943, 0.11431380199673248, -0.0405144973208297, 0.04745694616139672, 1.0, -0.045482602938295744], [-0.40661964300088105, 0.004210453304503587, -0.5082009402230283, -0.05246092183076486, 0.000263774760268633, -0.439856427944862, -0.045482602938295744, 1.0]], \"type\": \"heatmap\", \"uid\": \"19655e1c-7964-4b83-8c36-56bde8870b55\"}], {\"title\": {\"text\": \"Heatmap of attributes' variance and failure\"}}, {\"showLink\": false, \"linkText\": \"Export to plot.ly\", \"plotlyServerURL\": \"https://plot.ly\"}); \n",
       "}\n",
       "});</script><script type=\"text/javascript\">window.addEventListener(\"resize\", function(){if (document.getElementById(\"dac9453d-d62b-4167-a583-0e4f733d4f2c\")) {window._Plotly.Plots.resize(document.getElementById(\"dac9453d-d62b-4167-a583-0e4f733d4f2c\"));};})</script>"
      ],
      "text/vnd.plotly.v1+html": [
       "<div id=\"dac9453d-d62b-4167-a583-0e4f733d4f2c\" style=\"height: 525px; width: 100%;\" class=\"plotly-graph-div\"></div><script type=\"text/javascript\">require([\"plotly\"], function(Plotly) { window.PLOTLYENV=window.PLOTLYENV || {};window.PLOTLYENV.BASE_URL=\"https://plot.ly\";\n",
       "if (document.getElementById(\"dac9453d-d62b-4167-a583-0e4f733d4f2c\")) {\n",
       "    Plotly.newPlot(\"dac9453d-d62b-4167-a583-0e4f733d4f2c\", [{\"colorscale\": \"Viridis\", \"x\": [\"novar_attribute2\", \"novar_attribute3\", \"novar_attribute4\", \"novar_attribute5\", \"novar_attribute6\", \"novar_attribute7\", \"novar_attribute9\", \"failure\"], \"y\": [\"novar_attribute2\", \"novar_attribute3\", \"novar_attribute4\", \"novar_attribute5\", \"novar_attribute6\", \"novar_attribute7\", \"novar_attribute9\", \"failure\"], \"z\": [[1.0, 0.0460971587728061, 0.39297850398100914, 0.002455814522014325, -0.021911139825945933, 0.3030403559793827, 0.03927773291466085, -0.40661964300088105], [0.0460971587728061, 1.0, 0.044755629272966176, 0.08574877926748782, -0.039949758135196495, 0.06420322963956149, 0.2416126087401465, 0.004210453304503587], [0.39297850398100914, 0.044755629272966176, 1.0, 0.0954091019613816, -0.02008404645203337, 0.47371065602482954, 0.01852943824831943, -0.5082009402230283], [0.002455814522014325, 0.08574877926748782, 0.0954091019613816, 1.0, 0.1534478355517057, 0.08312996536664785, 0.11431380199673248, -0.05246092183076486], [-0.021911139825945933, -0.039949758135196495, -0.02008404645203337, 0.1534478355517057, 1.0, 0.003542380525057799, -0.0405144973208297, 0.000263774760268633], [0.3030403559793827, 0.06420322963956149, 0.47371065602482954, 0.08312996536664785, 0.003542380525057799, 1.0, 0.04745694616139672, -0.439856427944862], [0.03927773291466085, 0.2416126087401465, 0.01852943824831943, 0.11431380199673248, -0.0405144973208297, 0.04745694616139672, 1.0, -0.045482602938295744], [-0.40661964300088105, 0.004210453304503587, -0.5082009402230283, -0.05246092183076486, 0.000263774760268633, -0.439856427944862, -0.045482602938295744, 1.0]], \"type\": \"heatmap\", \"uid\": \"19655e1c-7964-4b83-8c36-56bde8870b55\"}], {\"title\": {\"text\": \"Heatmap of attributes' variance and failure\"}}, {\"showLink\": false, \"linkText\": \"Export to plot.ly\", \"plotlyServerURL\": \"https://plot.ly\"}); \n",
       "}\n",
       "});</script><script type=\"text/javascript\">window.addEventListener(\"resize\", function(){if (document.getElementById(\"dac9453d-d62b-4167-a583-0e4f733d4f2c\")) {window._Plotly.Plots.resize(document.getElementById(\"dac9453d-d62b-4167-a583-0e4f733d4f2c\"));};})</script>"
      ]
     },
     "metadata": {},
     "output_type": "display_data"
    }
   ],
   "source": [
    "data = [go.Heatmap(z=corrs.values.tolist(), \n",
    "                   x=corrs.columns.tolist(),\n",
    "                   y=corrs.index.tolist(),\n",
    "                   colorscale='Viridis')]\n",
    "layout=go.Layout(\n",
    "        title=\"Heatmap of attributes' variance and failure\")\n",
    "fig = go.Figure(data=data, layout=layout)\n",
    "iplot(fig)"
   ]
  },
  {
   "cell_type": "code",
   "execution_count": 26,
   "metadata": {},
   "outputs": [
    {
     "data": {
      "application/vnd.plotly.v1+json": {
       "config": {
        "linkText": "Export to plot.ly",
        "plotlyServerURL": "https://plot.ly",
        "showLink": false
       },
       "data": [
        {
         "marker": {
          "color": [
           "#440154",
           "#fde725"
          ]
         },
         "type": "bar",
         "uid": "7c0f02de-26c8-43e8-a675-21b5ae7c4258",
         "x": [
          0,
          1
         ],
         "y": [
          0.5443037974683544,
          0.08160621761658031
         ]
        }
       ],
       "layout": {
        "height": 300,
        "title": {
         "text": "Attribute 2"
        },
        "width": 500,
        "xaxis": {
         "title": {
          "text": "No variance"
         }
        },
        "yaxis": {
         "title": {
          "text": "Mean failure"
         }
        }
       }
      },
      "text/html": [
       "<div id=\"5436f284-a839-4021-ba50-52e0481605ed\" style=\"height: 300px; width: 500px;\" class=\"plotly-graph-div\"></div><script type=\"text/javascript\">require([\"plotly\"], function(Plotly) { window.PLOTLYENV=window.PLOTLYENV || {};window.PLOTLYENV.BASE_URL=\"https://plot.ly\";\n",
       "if (document.getElementById(\"5436f284-a839-4021-ba50-52e0481605ed\")) {\n",
       "    Plotly.newPlot(\"5436f284-a839-4021-ba50-52e0481605ed\", [{\"marker\": {\"color\": [\"#440154\", \"#fde725\"]}, \"x\": [0, 1], \"y\": [0.5443037974683544, 0.08160621761658031], \"type\": \"bar\", \"uid\": \"7c0f02de-26c8-43e8-a675-21b5ae7c4258\"}], {\"height\": 300, \"title\": {\"text\": \"Attribute 2\"}, \"width\": 500, \"xaxis\": {\"title\": {\"text\": \"No variance\"}}, \"yaxis\": {\"title\": {\"text\": \"Mean failure\"}}}, {\"showLink\": false, \"linkText\": \"Export to plot.ly\", \"plotlyServerURL\": \"https://plot.ly\"}); \n",
       "}\n",
       "});</script>"
      ],
      "text/vnd.plotly.v1+html": [
       "<div id=\"5436f284-a839-4021-ba50-52e0481605ed\" style=\"height: 300px; width: 500px;\" class=\"plotly-graph-div\"></div><script type=\"text/javascript\">require([\"plotly\"], function(Plotly) { window.PLOTLYENV=window.PLOTLYENV || {};window.PLOTLYENV.BASE_URL=\"https://plot.ly\";\n",
       "if (document.getElementById(\"5436f284-a839-4021-ba50-52e0481605ed\")) {\n",
       "    Plotly.newPlot(\"5436f284-a839-4021-ba50-52e0481605ed\", [{\"marker\": {\"color\": [\"#440154\", \"#fde725\"]}, \"x\": [0, 1], \"y\": [0.5443037974683544, 0.08160621761658031], \"type\": \"bar\", \"uid\": \"7c0f02de-26c8-43e8-a675-21b5ae7c4258\"}], {\"height\": 300, \"title\": {\"text\": \"Attribute 2\"}, \"width\": 500, \"xaxis\": {\"title\": {\"text\": \"No variance\"}}, \"yaxis\": {\"title\": {\"text\": \"Mean failure\"}}}, {\"showLink\": false, \"linkText\": \"Export to plot.ly\", \"plotlyServerURL\": \"https://plot.ly\"}); \n",
       "}\n",
       "});</script>"
      ]
     },
     "metadata": {},
     "output_type": "display_data"
    },
    {
     "data": {
      "application/vnd.plotly.v1+json": {
       "config": {
        "linkText": "Export to plot.ly",
        "plotlyServerURL": "https://plot.ly",
        "showLink": false
       },
       "data": [
        {
         "marker": {
          "color": [
           "#440154",
           "#fde725"
          ]
         },
         "type": "bar",
         "uid": "00094fb6-7459-459b-ac46-1b5939c6422f",
         "x": [
          0,
          1
         ],
         "y": [
          0.6419753086419753,
          0.07012987012987013
         ]
        }
       ],
       "layout": {
        "height": 300,
        "title": {
         "text": "Attribute 4"
        },
        "width": 500,
        "xaxis": {
         "title": {
          "text": "No variance"
         }
        },
        "yaxis": {
         "title": {
          "text": "Mean failure"
         }
        }
       }
      },
      "text/html": [
       "<div id=\"11525ad4-fd36-44dd-a3e0-6a79a7aa947d\" style=\"height: 300px; width: 500px;\" class=\"plotly-graph-div\"></div><script type=\"text/javascript\">require([\"plotly\"], function(Plotly) { window.PLOTLYENV=window.PLOTLYENV || {};window.PLOTLYENV.BASE_URL=\"https://plot.ly\";\n",
       "if (document.getElementById(\"11525ad4-fd36-44dd-a3e0-6a79a7aa947d\")) {\n",
       "    Plotly.newPlot(\"11525ad4-fd36-44dd-a3e0-6a79a7aa947d\", [{\"marker\": {\"color\": [\"#440154\", \"#fde725\"]}, \"x\": [0, 1], \"y\": [0.6419753086419753, 0.07012987012987013], \"type\": \"bar\", \"uid\": \"00094fb6-7459-459b-ac46-1b5939c6422f\"}], {\"height\": 300, \"title\": {\"text\": \"Attribute 4\"}, \"width\": 500, \"xaxis\": {\"title\": {\"text\": \"No variance\"}}, \"yaxis\": {\"title\": {\"text\": \"Mean failure\"}}}, {\"showLink\": false, \"linkText\": \"Export to plot.ly\", \"plotlyServerURL\": \"https://plot.ly\"}); \n",
       "}\n",
       "});</script>"
      ],
      "text/vnd.plotly.v1+html": [
       "<div id=\"11525ad4-fd36-44dd-a3e0-6a79a7aa947d\" style=\"height: 300px; width: 500px;\" class=\"plotly-graph-div\"></div><script type=\"text/javascript\">require([\"plotly\"], function(Plotly) { window.PLOTLYENV=window.PLOTLYENV || {};window.PLOTLYENV.BASE_URL=\"https://plot.ly\";\n",
       "if (document.getElementById(\"11525ad4-fd36-44dd-a3e0-6a79a7aa947d\")) {\n",
       "    Plotly.newPlot(\"11525ad4-fd36-44dd-a3e0-6a79a7aa947d\", [{\"marker\": {\"color\": [\"#440154\", \"#fde725\"]}, \"x\": [0, 1], \"y\": [0.6419753086419753, 0.07012987012987013], \"type\": \"bar\", \"uid\": \"00094fb6-7459-459b-ac46-1b5939c6422f\"}], {\"height\": 300, \"title\": {\"text\": \"Attribute 4\"}, \"width\": 500, \"xaxis\": {\"title\": {\"text\": \"No variance\"}}, \"yaxis\": {\"title\": {\"text\": \"Mean failure\"}}}, {\"showLink\": false, \"linkText\": \"Export to plot.ly\", \"plotlyServerURL\": \"https://plot.ly\"}); \n",
       "}\n",
       "});</script>"
      ]
     },
     "metadata": {},
     "output_type": "display_data"
    },
    {
     "data": {
      "application/vnd.plotly.v1+json": {
       "config": {
        "linkText": "Export to plot.ly",
        "plotlyServerURL": "https://plot.ly",
        "showLink": false
       },
       "data": [
        {
         "marker": {
          "color": [
           "#440154",
           "#fde725"
          ]
         },
         "type": "bar",
         "uid": "15f29f1c-d869-42b4-8acb-3b78a39080a4",
         "x": [
          0,
          1
         ],
         "y": [
          0.6666666666666666,
          0.08564231738035265
         ]
        }
       ],
       "layout": {
        "height": 300,
        "title": {
         "text": "Attribute 7"
        },
        "width": 500,
        "xaxis": {
         "title": {
          "text": "No variance"
         }
        },
        "yaxis": {
         "title": {
          "text": "Mean failure"
         }
        }
       }
      },
      "text/html": [
       "<div id=\"51da30af-d507-4902-9791-d9bb4c0a913c\" style=\"height: 300px; width: 500px;\" class=\"plotly-graph-div\"></div><script type=\"text/javascript\">require([\"plotly\"], function(Plotly) { window.PLOTLYENV=window.PLOTLYENV || {};window.PLOTLYENV.BASE_URL=\"https://plot.ly\";\n",
       "if (document.getElementById(\"51da30af-d507-4902-9791-d9bb4c0a913c\")) {\n",
       "    Plotly.newPlot(\"51da30af-d507-4902-9791-d9bb4c0a913c\", [{\"marker\": {\"color\": [\"#440154\", \"#fde725\"]}, \"x\": [0, 1], \"y\": [0.6666666666666666, 0.08564231738035265], \"type\": \"bar\", \"uid\": \"15f29f1c-d869-42b4-8acb-3b78a39080a4\"}], {\"height\": 300, \"title\": {\"text\": \"Attribute 7\"}, \"width\": 500, \"xaxis\": {\"title\": {\"text\": \"No variance\"}}, \"yaxis\": {\"title\": {\"text\": \"Mean failure\"}}}, {\"showLink\": false, \"linkText\": \"Export to plot.ly\", \"plotlyServerURL\": \"https://plot.ly\"}); \n",
       "}\n",
       "});</script>"
      ],
      "text/vnd.plotly.v1+html": [
       "<div id=\"51da30af-d507-4902-9791-d9bb4c0a913c\" style=\"height: 300px; width: 500px;\" class=\"plotly-graph-div\"></div><script type=\"text/javascript\">require([\"plotly\"], function(Plotly) { window.PLOTLYENV=window.PLOTLYENV || {};window.PLOTLYENV.BASE_URL=\"https://plot.ly\";\n",
       "if (document.getElementById(\"51da30af-d507-4902-9791-d9bb4c0a913c\")) {\n",
       "    Plotly.newPlot(\"51da30af-d507-4902-9791-d9bb4c0a913c\", [{\"marker\": {\"color\": [\"#440154\", \"#fde725\"]}, \"x\": [0, 1], \"y\": [0.6666666666666666, 0.08564231738035265], \"type\": \"bar\", \"uid\": \"15f29f1c-d869-42b4-8acb-3b78a39080a4\"}], {\"height\": 300, \"title\": {\"text\": \"Attribute 7\"}, \"width\": 500, \"xaxis\": {\"title\": {\"text\": \"No variance\"}}, \"yaxis\": {\"title\": {\"text\": \"Mean failure\"}}}, {\"showLink\": false, \"linkText\": \"Export to plot.ly\", \"plotlyServerURL\": \"https://plot.ly\"}); \n",
       "}\n",
       "});</script>"
      ]
     },
     "metadata": {},
     "output_type": "display_data"
    }
   ],
   "source": [
    "for i in [2,4,7]:\n",
    "    results=dfsmall.groupby('novar_attribute'+str(i))['failure'].mean()\n",
    "    mydata = [go.Bar(\n",
    "        x=results.index,\n",
    "        y=results,\n",
    "        marker=dict(color=[Viridis[0], Viridis[16]])\n",
    "    )]\n",
    "\n",
    "    mylayout = go.Layout(\n",
    "        title='Attribute '+str(i),\n",
    "        xaxis=dict(title = 'No variance'),\n",
    "        yaxis=dict(title = 'Mean failure'),\n",
    "        width=500,\n",
    "        height=300,\n",
    "    )\n",
    "    fig = go.Figure(data=mydata, layout=mylayout)\n",
    "    iplot(fig)"
   ]
  },
  {
   "cell_type": "markdown",
   "metadata": {},
   "source": [
    "## Time to failure"
   ]
  },
  {
   "cell_type": "code",
   "execution_count": 27,
   "metadata": {},
   "outputs": [
    {
     "data": {
      "text/plain": [
       "(851, 2)"
      ]
     },
     "execution_count": 27,
     "metadata": {},
     "output_type": "execute_result"
    }
   ],
   "source": [
    "# group on device, with count by date.\n",
    "dfcount=df.groupby('device')['date'].count().reset_index(drop=False)\n",
    "dfcount.shape"
   ]
  },
  {
   "cell_type": "code",
   "execution_count": 28,
   "metadata": {},
   "outputs": [],
   "source": [
    "# Keep only the failures\n",
    "dfcount=dfcount[dfcount['device'].isin(fails)]"
   ]
  },
  {
   "cell_type": "code",
   "execution_count": 29,
   "metadata": {},
   "outputs": [
    {
     "data": {
      "application/vnd.plotly.v1+json": {
       "config": {
        "linkText": "Export to plot.ly",
        "plotlyServerURL": "https://plot.ly",
        "showLink": false
       },
       "data": [
        {
         "marker": {
          "color": [
           "#440154",
           "#48186a",
           "#472d7b",
           "#424086",
           "#3b528b",
           "#33638d",
           "#2c728e",
           "#26828e",
           "#21918c",
           "#1fa088",
           "#28ae80",
           "#3fbc73",
           "#5ec962",
           "#84d44b",
           "#addc30",
           "#d8e219",
           "#fde725"
          ]
         },
         "type": "histogram",
         "uid": "e29559a8-e6be-4fc8-84cd-d2f79d1e05b2",
         "x": [
          19,
          215,
          199,
          7,
          45,
          127,
          18,
          76,
          117,
          133,
          193,
          148,
          215,
          193,
          99,
          278,
          141,
          26,
          118,
          201,
          76,
          20,
          60,
          148,
          19,
          87,
          5,
          111,
          19,
          58,
          195,
          84,
          26,
          190,
          204,
          49,
          7,
          7,
          125,
          211,
          125,
          107,
          125,
          14,
          52,
          22,
          97,
          28,
          169,
          129,
          129,
          162,
          40,
          23,
          192,
          9,
          78,
          33,
          17,
          40,
          299,
          35,
          33,
          141,
          23,
          22,
          19,
          91,
          26,
          199,
          14,
          13,
          209,
          19,
          63,
          201,
          190,
          120,
          54,
          127,
          216,
          93,
          194,
          212,
          50,
          118,
          78,
          131,
          177,
          35,
          19,
          35,
          230,
          19,
          189,
          36,
          83,
          64,
          110,
          282,
          128,
          132,
          9,
          19,
          124,
          125
         ],
         "xbins": {
          "size": 20
         }
        }
       ],
       "layout": {
        "title": {
         "text": "Device Failure by Length of Life"
        },
        "xaxis": {
         "title": {
          "text": "Days since launch"
         }
        },
        "yaxis": {
         "title": {
          "text": "Number of failing devices"
         }
        }
       }
      },
      "text/html": [
       "<div id=\"95aad482-b022-41de-a861-375daa206139\" style=\"height: 525px; width: 100%;\" class=\"plotly-graph-div\"></div><script type=\"text/javascript\">require([\"plotly\"], function(Plotly) { window.PLOTLYENV=window.PLOTLYENV || {};window.PLOTLYENV.BASE_URL=\"https://plot.ly\";\n",
       "if (document.getElementById(\"95aad482-b022-41de-a861-375daa206139\")) {\n",
       "    Plotly.newPlot(\"95aad482-b022-41de-a861-375daa206139\", [{\"marker\": {\"color\": [\"#440154\", \"#48186a\", \"#472d7b\", \"#424086\", \"#3b528b\", \"#33638d\", \"#2c728e\", \"#26828e\", \"#21918c\", \"#1fa088\", \"#28ae80\", \"#3fbc73\", \"#5ec962\", \"#84d44b\", \"#addc30\", \"#d8e219\", \"#fde725\"]}, \"x\": [19, 215, 199, 7, 45, 127, 18, 76, 117, 133, 193, 148, 215, 193, 99, 278, 141, 26, 118, 201, 76, 20, 60, 148, 19, 87, 5, 111, 19, 58, 195, 84, 26, 190, 204, 49, 7, 7, 125, 211, 125, 107, 125, 14, 52, 22, 97, 28, 169, 129, 129, 162, 40, 23, 192, 9, 78, 33, 17, 40, 299, 35, 33, 141, 23, 22, 19, 91, 26, 199, 14, 13, 209, 19, 63, 201, 190, 120, 54, 127, 216, 93, 194, 212, 50, 118, 78, 131, 177, 35, 19, 35, 230, 19, 189, 36, 83, 64, 110, 282, 128, 132, 9, 19, 124, 125], \"xbins\": {\"size\": 20}, \"type\": \"histogram\", \"uid\": \"e29559a8-e6be-4fc8-84cd-d2f79d1e05b2\"}], {\"title\": {\"text\": \"Device Failure by Length of Life\"}, \"xaxis\": {\"title\": {\"text\": \"Days since launch\"}}, \"yaxis\": {\"title\": {\"text\": \"Number of failing devices\"}}}, {\"showLink\": false, \"linkText\": \"Export to plot.ly\", \"plotlyServerURL\": \"https://plot.ly\"}); \n",
       "}\n",
       "});</script><script type=\"text/javascript\">window.addEventListener(\"resize\", function(){if (document.getElementById(\"95aad482-b022-41de-a861-375daa206139\")) {window._Plotly.Plots.resize(document.getElementById(\"95aad482-b022-41de-a861-375daa206139\"));};})</script>"
      ],
      "text/vnd.plotly.v1+html": [
       "<div id=\"95aad482-b022-41de-a861-375daa206139\" style=\"height: 525px; width: 100%;\" class=\"plotly-graph-div\"></div><script type=\"text/javascript\">require([\"plotly\"], function(Plotly) { window.PLOTLYENV=window.PLOTLYENV || {};window.PLOTLYENV.BASE_URL=\"https://plot.ly\";\n",
       "if (document.getElementById(\"95aad482-b022-41de-a861-375daa206139\")) {\n",
       "    Plotly.newPlot(\"95aad482-b022-41de-a861-375daa206139\", [{\"marker\": {\"color\": [\"#440154\", \"#48186a\", \"#472d7b\", \"#424086\", \"#3b528b\", \"#33638d\", \"#2c728e\", \"#26828e\", \"#21918c\", \"#1fa088\", \"#28ae80\", \"#3fbc73\", \"#5ec962\", \"#84d44b\", \"#addc30\", \"#d8e219\", \"#fde725\"]}, \"x\": [19, 215, 199, 7, 45, 127, 18, 76, 117, 133, 193, 148, 215, 193, 99, 278, 141, 26, 118, 201, 76, 20, 60, 148, 19, 87, 5, 111, 19, 58, 195, 84, 26, 190, 204, 49, 7, 7, 125, 211, 125, 107, 125, 14, 52, 22, 97, 28, 169, 129, 129, 162, 40, 23, 192, 9, 78, 33, 17, 40, 299, 35, 33, 141, 23, 22, 19, 91, 26, 199, 14, 13, 209, 19, 63, 201, 190, 120, 54, 127, 216, 93, 194, 212, 50, 118, 78, 131, 177, 35, 19, 35, 230, 19, 189, 36, 83, 64, 110, 282, 128, 132, 9, 19, 124, 125], \"xbins\": {\"size\": 20}, \"type\": \"histogram\", \"uid\": \"e29559a8-e6be-4fc8-84cd-d2f79d1e05b2\"}], {\"title\": {\"text\": \"Device Failure by Length of Life\"}, \"xaxis\": {\"title\": {\"text\": \"Days since launch\"}}, \"yaxis\": {\"title\": {\"text\": \"Number of failing devices\"}}}, {\"showLink\": false, \"linkText\": \"Export to plot.ly\", \"plotlyServerURL\": \"https://plot.ly\"}); \n",
       "}\n",
       "});</script><script type=\"text/javascript\">window.addEventListener(\"resize\", function(){if (document.getElementById(\"95aad482-b022-41de-a861-375daa206139\")) {window._Plotly.Plots.resize(document.getElementById(\"95aad482-b022-41de-a861-375daa206139\"));};})</script>"
      ]
     },
     "metadata": {},
     "output_type": "display_data"
    }
   ],
   "source": [
    "# Failures peak at 19 and 125 days\n",
    "data = [go.Histogram(x=dfcount['date'],\n",
    "                    xbins=dict(size=20),\n",
    "                     marker=dict(color=Viridis[::1])\n",
    "                   )]\n",
    "layout = go.Layout(\n",
    "    title = 'Device Failure by Length of Life', # Graph title\n",
    "    yaxis = dict(title = 'Number of failing devices'), # x-axis label\n",
    "    xaxis = dict(title = 'Days since launch'), # y-axis label\n",
    "    \n",
    ")\n",
    "fig = go.Figure(data=data, layout=layout)\n",
    "iplot(fig)"
   ]
  },
  {
   "cell_type": "markdown",
   "metadata": {},
   "source": [
    "## Zip the dataset"
   ]
  },
  {
   "cell_type": "code",
   "execution_count": 30,
   "metadata": {},
   "outputs": [
    {
     "data": {
      "text/plain": [
       "Index(['date', 'device', 'failure', 'attribute1', 'attribute2', 'attribute3',\n",
       "       'attribute4', 'attribute5', 'attribute6', 'attribute7', 'attribute9',\n",
       "       'prefix'],\n",
       "      dtype='object')"
      ]
     },
     "execution_count": 30,
     "metadata": {},
     "output_type": "execute_result"
    }
   ],
   "source": [
    "df.columns"
   ]
  },
  {
   "cell_type": "code",
   "execution_count": 32,
   "metadata": {},
   "outputs": [
    {
     "name": "stdout",
     "output_type": "stream",
     "text": [
      "(122402, 12)\n"
     ]
    }
   ],
   "source": [
    "# write clean datafile\n",
    "df.to_csv('../data/dataset2.gz', compression='gzip', index=False)\n",
    "print(df.shape)"
   ]
  },
  {
   "cell_type": "code",
   "execution_count": null,
   "metadata": {},
   "outputs": [],
   "source": []
  }
 ],
 "metadata": {
  "kernelspec": {
   "display_name": "Python 3",
   "language": "python",
   "name": "python3"
  },
  "language_info": {
   "codemirror_mode": {
    "name": "ipython",
    "version": 3
   },
   "file_extension": ".py",
   "mimetype": "text/x-python",
   "name": "python",
   "nbconvert_exporter": "python",
   "pygments_lexer": "ipython3",
   "version": "3.6.8"
  }
 },
 "nbformat": 4,
 "nbformat_minor": 2
}
