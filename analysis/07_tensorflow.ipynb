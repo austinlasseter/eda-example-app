{
 "cells": [
  {
   "cell_type": "code",
   "execution_count": 1,
   "metadata": {},
   "outputs": [],
   "source": [
    "import pickle\n",
    "import tensorflow as tf\n",
    "import pandas as pd\n",
    "import numpy as np\n",
    "from sklearn.model_selection import train_test_split, KFold\n",
    "from sklearn.preprocessing import StandardScaler\n",
    "from sklearn import metrics\n",
    "from sklearn.metrics import classification_report,confusion_matrix,accuracy_score,roc_curve, roc_auc_score, auc, log_loss"
   ]
  },
  {
   "cell_type": "code",
   "execution_count": 2,
   "metadata": {},
   "outputs": [],
   "source": [
    "import matplotlib.pyplot as plt\n",
    "import seaborn as sns\n",
    "%matplotlib inline"
   ]
  },
  {
   "cell_type": "code",
   "execution_count": 3,
   "metadata": {},
   "outputs": [
    {
     "data": {
      "text/html": [
       "<script type=\"text/javascript\">window.PlotlyConfig = {MathJaxConfig: 'local'};</script><script type=\"text/javascript\">if (window.MathJax) {MathJax.Hub.Config({SVG: {font: \"STIX-Web\"}});}</script><script>requirejs.config({paths: { 'plotly': ['https://cdn.plot.ly/plotly-latest.min']},});if(!window._Plotly) {require(['plotly'],function(plotly) {window._Plotly=plotly;});}</script>"
      ],
      "text/vnd.plotly.v1+html": [
       "<script type=\"text/javascript\">window.PlotlyConfig = {MathJaxConfig: 'local'};</script><script type=\"text/javascript\">if (window.MathJax) {MathJax.Hub.Config({SVG: {font: \"STIX-Web\"}});}</script><script>requirejs.config({paths: { 'plotly': ['https://cdn.plot.ly/plotly-latest.min']},});if(!window._Plotly) {require(['plotly'],function(plotly) {window._Plotly=plotly;});}</script>"
      ]
     },
     "metadata": {},
     "output_type": "display_data"
    }
   ],
   "source": [
    "from plotly.offline import download_plotlyjs, init_notebook_mode, plot, iplot\n",
    "init_notebook_mode(connected=True)\n",
    "import plotly.io as pio\n",
    "import plotly.plotly as py\n",
    "import plotly.graph_objs as go\n",
    "from plotly.graph_objs import *"
   ]
  },
  {
   "cell_type": "code",
   "execution_count": 4,
   "metadata": {},
   "outputs": [],
   "source": [
    "# Define the color palette (17 colors).\n",
    "Viridis= ['#440154', '#48186a', '#472d7b', '#424086', '#3b528b', '#33638d', '#2c728e', '#26828e', '#21918c', '#1fa088',\n",
    "          '#28ae80', '#3fbc73', '#5ec962', '#84d44b', '#addc30','#d8e219', '#fde725']  "
   ]
  },
  {
   "cell_type": "markdown",
   "metadata": {},
   "source": [
    "## Neural Network for Binary Classification\n",
    "\n",
    "---"
   ]
  },
  {
   "cell_type": "markdown",
   "metadata": {},
   "source": [
    "Now we'll build a neural net for classification.  \n",
    "1. Load the data.\n",
    "2. Make test/train splits. (Should we use cross validation?)\n",
    "3. Standardize the data.\n",
    "4. Build the computational graph for the neural network.\n",
    "5. Train the network using gradient descent a.k.a. back propogation.\n",
    "6. Evaluate performance "
   ]
  },
  {
   "cell_type": "markdown",
   "metadata": {},
   "source": [
    "We read in the dataset from step 5 (feature engineering) which is the same dataset we used for the previous round of modeling."
   ]
  },
  {
   "cell_type": "code",
   "execution_count": 5,
   "metadata": {},
   "outputs": [],
   "source": [
    "df = pd.read_csv('../data/dataset5.gz', compression='gzip', header=0, sep=',', quotechar='\"')"
   ]
  },
  {
   "cell_type": "markdown",
   "metadata": {},
   "source": [
    "## Dealing with imbalanced classes"
   ]
  },
  {
   "cell_type": "markdown",
   "metadata": {},
   "source": [
    "Because our target variable (failure) is highly imbalanced, we need to take several precautions to accurately evaluate our model. Because the data is overwhelmingly positive, a model that predicted \"no failure\" would be accurate 99% of the time! We will take two steps to deal with imbalance:  \n",
    "* Up-sample Minority Class\n",
    "* Use ROC-AUC and F1 as our performance metric rather than accuracy  \n",
    "https://elitedatascience.com/imbalanced-classes"
   ]
  },
  {
   "cell_type": "markdown",
   "metadata": {},
   "source": [
    "Because we need to resample, we'll conduct train-test split _before_ separating our X and y data. This is because we only want to oversample the training data, not the testing data! In addition, if we conducted oversampling _before_ the train-test split, we would almost certainly have duplicate data in both the training and testing sets, which would result in severe overfit."
   ]
  },
  {
   "cell_type": "code",
   "execution_count": 6,
   "metadata": {},
   "outputs": [],
   "source": [
    "# Split the data\n",
    "df_train, df_test = train_test_split(df, test_size = .3, random_state=42)"
   ]
  },
  {
   "cell_type": "code",
   "execution_count": 7,
   "metadata": {},
   "outputs": [
    {
     "data": {
      "text/plain": [
       "1    65524\n",
       "0    65524\n",
       "Name: failure, dtype: int64"
      ]
     },
     "execution_count": 7,
     "metadata": {},
     "output_type": "execute_result"
    }
   ],
   "source": [
    "from sklearn.utils import resample\n",
    "# Separate majority and minority classes\n",
    "df_majority = df_train[df_train['failure']==0]\n",
    "df_minority = df_train[df_train['failure']==1]\n",
    " \n",
    "# Upsample minority class\n",
    "df_minority_upsampled = resample(df_minority, \n",
    "                                 replace=True,     # sample with replacement\n",
    "                                 n_samples=len(df_majority),    # to match majority class\n",
    "                                 random_state=42) # reproducible results\n",
    " \n",
    "# Combine majority class with upsampled minority class\n",
    "df_train_upsampled = pd.concat([df_majority, df_minority_upsampled])\n",
    " \n",
    "# Display new class counts\n",
    "df_train_upsampled['failure'].value_counts()\n"
   ]
  },
  {
   "cell_type": "code",
   "execution_count": 8,
   "metadata": {},
   "outputs": [],
   "source": [
    "# final x-values (features)\n",
    "X_train=df_train_upsampled.drop(['failure', 'device'], axis=1)\n",
    "X1_test=df_test.drop(['failure', 'device'], axis=1)"
   ]
  },
  {
   "cell_type": "code",
   "execution_count": 9,
   "metadata": {},
   "outputs": [],
   "source": [
    "# final y-values\n",
    "y_train=df_train_upsampled['failure'].values\n",
    "y1_test=df_test[['device','failure']] # Hold onto the device variable for later use, but remove it from the modeling data.\n",
    "y_test=df_test['failure'].values"
   ]
  },
  {
   "cell_type": "code",
   "execution_count": 10,
   "metadata": {},
   "outputs": [],
   "source": [
    "# confirm that lengths match\n",
    "assert len(X_train)==len(y_train)\n",
    "assert len(X1_test)==len(y_test)"
   ]
  },
  {
   "cell_type": "markdown",
   "metadata": {},
   "source": [
    "## Standardization\n",
    "Machine learning algorithms perform better or converge faster when features are on a relatively similar scale and/or close to normally distributed. It means changing the values so that the standard deviation from the mean equals one. It outputs something very close to a normal distribution."
   ]
  },
  {
   "cell_type": "code",
   "execution_count": 11,
   "metadata": {},
   "outputs": [],
   "source": [
    "# Standardize variables\n",
    "\n",
    "y_train = y_train*-1 + 1\n",
    "y_test = y_test*-1 + 1\n",
    "\n",
    "y_train = y_train.reshape(-1,1)\n",
    "y_test = y_test.reshape(-1,1)\n",
    "\n",
    "ss = StandardScaler()\n",
    "X_train = ss.fit_transform(X_train)\n",
    "X_test = ss.transform(X1_test)"
   ]
  },
  {
   "cell_type": "markdown",
   "metadata": {},
   "source": [
    "Our NN consists of input layers, output layers and 1 hidden layer. We are using ReLU as the activation function of the hidden layer and sigmoid for our output layer. We will use `AdamOptimizer` to reduce overfitting during the training of our network."
   ]
  },
  {
   "cell_type": "code",
   "execution_count": 12,
   "metadata": {},
   "outputs": [],
   "source": [
    "tf.reset_default_graph()\n",
    "\n",
    "X = tf.placeholder(dtype=tf.float32, \n",
    "                   shape=(None,X_train.shape[1]),\n",
    "                   name='X')\n",
    "y = tf.placeholder(dtype=tf.float32,\n",
    "                   shape=(None),\n",
    "                   name='y')\n",
    "\n",
    "hidden1 = tf.layers.dense(X, units=y_train.shape[1],\n",
    "                          name='hidden1',\n",
    "                          activation=tf.nn.relu)\n",
    "y_hat = tf.layers.dense(hidden1, units=1,\n",
    "                        name='y_hat',\n",
    "                        activation=tf.nn.sigmoid)\n",
    "\n",
    "loss = tf.losses.log_loss(y, y_hat)\n",
    "\n",
    "optimizer = tf.train.AdamOptimizer(0.01)\n",
    "\n",
    "training_op = optimizer.minimize(loss)"
   ]
  },
  {
   "cell_type": "markdown",
   "metadata": {},
   "source": [
    "We will train our model for 500 epochs (training steps) with a batch size of 32. That is, at each step, we will train our NN using 32 rows of our data. "
   ]
  },
  {
   "cell_type": "code",
   "execution_count": 13,
   "metadata": {},
   "outputs": [
    {
     "name": "stdout",
     "output_type": "stream",
     "text": [
      "epoch 1 0.64988536 0.9184532\n",
      "epoch 11 0.54203236 0.75381196\n",
      "epoch 21 0.5082868 0.69986755\n",
      "epoch 31 0.48461288 0.65980846\n",
      "epoch 41 0.46744797 0.62746644\n",
      "epoch 51 0.45309135 0.59553564\n",
      "epoch 61 0.4427814 0.56562907\n",
      "epoch 71 0.43484125 0.53596306\n",
      "epoch 81 0.4283889 0.51326364\n",
      "epoch 91 0.423202 0.49492642\n",
      "epoch 101 0.41905972 0.47680637\n",
      "epoch 111 0.41569847 0.46131608\n",
      "epoch 121 0.4130609 0.44840163\n",
      "epoch 131 0.41091138 0.43698502\n",
      "epoch 141 0.40924454 0.42688864\n",
      "epoch 151 0.40792194 0.41821188\n",
      "epoch 161 0.4068471 0.41057673\n",
      "epoch 171 0.40598077 0.4038904\n",
      "epoch 181 0.4053287 0.3981485\n",
      "epoch 191 0.40477505 0.39314455\n",
      "epoch 201 0.40434092 0.38879582\n",
      "epoch 211 0.40397874 0.38499233\n",
      "epoch 221 0.4036783 0.38169956\n",
      "epoch 231 0.40341002 0.37884074\n",
      "epoch 241 0.40321484 0.37642556\n",
      "epoch 251 0.40301993 0.3743179\n",
      "epoch 261 0.40284324 0.37249702\n",
      "epoch 271 0.4027038 0.37095997\n",
      "epoch 281 0.40255773 0.3696032\n",
      "epoch 291 0.40244702 0.36849412\n",
      "epoch 301 0.40232712 0.36749777\n",
      "epoch 311 0.4022273 0.36670682\n",
      "epoch 321 0.40210226 0.3659625\n",
      "epoch 331 0.4020257 0.36539966\n",
      "epoch 341 0.40192696 0.3648619\n",
      "epoch 351 0.40182897 0.36441737\n",
      "epoch 361 0.4017622 0.3641005\n",
      "epoch 371 0.40168118 0.36378205\n",
      "epoch 381 0.40161058 0.3635077\n",
      "epoch 391 0.40156075 0.36326832\n",
      "epoch 401 0.40148795 0.36306044\n",
      "epoch 411 0.4014498 0.36299288\n",
      "epoch 421 0.4013971 0.36287144\n",
      "epoch 431 0.40133512 0.36275482\n",
      "epoch 441 0.40126628 0.3626544\n",
      "epoch 451 0.389761 0.36679292\n",
      "epoch 461 0.38341254 0.3701507\n",
      "epoch 471 0.38108343 0.37294585\n",
      "epoch 481 0.37985364 0.3596024\n",
      "epoch 491 0.37901065 0.3623869\n",
      "epoch 501 0.37838858 0.3521233\n"
     ]
    }
   ],
   "source": [
    "init = tf.global_variables_initializer()\n",
    "\n",
    "test_err = []\n",
    "train_err = []\n",
    "\n",
    "with tf.Session() as sess:\n",
    "    init.run()\n",
    "    \n",
    "    for epoch in range(501):\n",
    "        sess.run(training_op,\n",
    "                     feed_dict={X:X_train, y:y_train})\n",
    "        \n",
    "        train_loss = sess.run(loss, feed_dict={X:X_train, y:y_train})\n",
    "        test_loss = sess.run(loss, feed_dict={X:X_test, y:y_test})\n",
    "        test_err.append(test_loss)\n",
    "        train_err.append(train_loss)\n",
    "        if epoch % 10 == 0:\n",
    "            print('epoch', epoch+1, train_loss, test_loss)\n",
    "        \n",
    "    pred = sess.run(y_hat, feed_dict={X:X_test})"
   ]
  },
  {
   "cell_type": "markdown",
   "metadata": {},
   "source": [
    "As the model iterates over epochs, model error decreases (this is good). In addition, test error becomes lower than training error (also good). At a certain point, the decrease in error levels out, which tells the model it's time to stop iterating as no additional loss in error is likely to occur with further iterations."
   ]
  },
  {
   "cell_type": "code",
   "execution_count": 14,
   "metadata": {},
   "outputs": [
    {
     "data": {
      "image/png": "[encoded data removed]",
      "text/plain": [
       "<matplotlib.figure.Figure at 0x1a18ecf860>"
      ]
     },
     "metadata": {},
     "output_type": "display_data"
    }
   ],
   "source": [
    "plt.plot(train_err, label='Train error')\n",
    "plt.plot(test_err, label='Test error')\n",
    "plt.legend()\n",
    "plt.savefig('nn_error.png')"
   ]
  },
  {
   "cell_type": "markdown",
   "metadata": {},
   "source": [
    "We set the threshold at 50% - that is, any prediction with probability greater than 50% is predicted as a failure."
   ]
  },
  {
   "cell_type": "code",
   "execution_count": 15,
   "metadata": {},
   "outputs": [
    {
     "data": {
      "text/plain": [
       "(array([0.810501], dtype=float32), array([1]))"
      ]
     },
     "execution_count": 15,
     "metadata": {},
     "output_type": "execute_result"
    }
   ],
   "source": [
    "predictions = (pred > 0.5).astype(int)\n",
    "pred[0], y_test[0]"
   ]
  },
  {
   "cell_type": "markdown",
   "metadata": {},
   "source": [
    "## Model Evaluation"
   ]
  },
  {
   "cell_type": "markdown",
   "metadata": {},
   "source": [
    "Just as with the previous logistic regression model, we examine our metrics to determine the accuracy and precision of our model."
   ]
  },
  {
   "cell_type": "code",
   "execution_count": 16,
   "metadata": {},
   "outputs": [
    {
     "name": "stdout",
     "output_type": "stream",
     "text": [
      "F1 Score 0.9593\n",
      "Accuracy 0.9218\n",
      "AUC Score 0.8809\n"
     ]
    }
   ],
   "source": [
    "# Calculate the roc-auc score\n",
    "auc_tf=metrics.roc_auc_score(y_test, predictions)\n",
    "acc_tf = metrics.accuracy_score(y_test, predictions)\n",
    "f1_tf = metrics.f1_score(y_test, predictions)\n",
    "# Display\n",
    "print('F1 Score', \"%.4f\" % round(f1_tf,4))\n",
    "print('Accuracy', \"%.4f\" % round(acc_tf,4))\n",
    "print('AUC Score', \"%.4f\" % round(auc_tf,4))"
   ]
  },
  {
   "cell_type": "code",
   "execution_count": 17,
   "metadata": {},
   "outputs": [
    {
     "name": "stdout",
     "output_type": "stream",
     "text": [
      "0.6931471805599453\n",
      "2.7018168151541504\n"
     ]
    }
   ],
   "source": [
    "# Log loss. Can we beat random guessing? Lower is better.\n",
    "guesses=np.full((len(y_test), ), .5)\n",
    "print(log_loss(y_test, guesses))\n",
    "print(log_loss(y_test, predictions)) "
   ]
  },
  {
   "cell_type": "code",
   "execution_count": 18,
   "metadata": {},
   "outputs": [
    {
     "data": {
      "text/html": [
       "<div>\n",
       "<style scoped>\n",
       "    .dataframe tbody tr th:only-of-type {\n",
       "        vertical-align: middle;\n",
       "    }\n",
       "\n",
       "    .dataframe tbody tr th {\n",
       "        vertical-align: top;\n",
       "    }\n",
       "\n",
       "    .dataframe thead th {\n",
       "        text-align: right;\n",
       "    }\n",
       "</style>\n",
       "<table border=\"1\" class=\"dataframe\">\n",
       "  <thead>\n",
       "    <tr style=\"text-align: right;\">\n",
       "      <th></th>\n",
       "      <th>naive bayes</th>\n",
       "      <th>logistic regression</th>\n",
       "      <th>k-nearest neighbors</th>\n",
       "      <th>random forest</th>\n",
       "      <th>neural net</th>\n",
       "    </tr>\n",
       "  </thead>\n",
       "  <tbody>\n",
       "    <tr>\n",
       "      <th>F1 score</th>\n",
       "      <td>0.004476</td>\n",
       "      <td>0.010887</td>\n",
       "      <td>0.020202</td>\n",
       "      <td>0.000000</td>\n",
       "      <td>0.959263</td>\n",
       "    </tr>\n",
       "    <tr>\n",
       "      <th>Accuracy</th>\n",
       "      <td>0.778450</td>\n",
       "      <td>0.890114</td>\n",
       "      <td>0.996549</td>\n",
       "      <td>0.999004</td>\n",
       "      <td>0.921774</td>\n",
       "    </tr>\n",
       "    <tr>\n",
       "      <th>AUC score</th>\n",
       "      <td>0.669322</td>\n",
       "      <td>0.785151</td>\n",
       "      <td>0.518700</td>\n",
       "      <td>0.499947</td>\n",
       "      <td>0.880924</td>\n",
       "    </tr>\n",
       "  </tbody>\n",
       "</table>\n",
       "</div>"
      ],
      "text/plain": [
       "           naive bayes  logistic regression  k-nearest neighbors  \\\n",
       "F1 score      0.004476             0.010887             0.020202   \n",
       "Accuracy      0.778450             0.890114             0.996549   \n",
       "AUC score     0.669322             0.785151             0.518700   \n",
       "\n",
       "           random forest  neural net  \n",
       "F1 score        0.000000    0.959263  \n",
       "Accuracy        0.999004    0.921774  \n",
       "AUC score       0.499947    0.880924  "
      ]
     },
     "execution_count": 18,
     "metadata": {},
     "output_type": "execute_result"
    }
   ],
   "source": [
    "# Unpickle the results from previous models (logreg, etc.)\n",
    "pickle_off = open('model_metrics.pkl','rb')\n",
    "results = pickle.load(pickle_off)\n",
    "results['neural net']=[f1_tf, acc_tf, auc_tf]\n",
    "results"
   ]
  },
  {
   "cell_type": "code",
   "execution_count": 20,
   "metadata": {},
   "outputs": [],
   "source": [
    "# Pickle those results for comparison with tensorflow.\n",
    "with open('../data/model_metrics7.pkl', 'wb') as f:\n",
    "    pickle.dump(results, f)\n",
    "f.close()"
   ]
  },
  {
   "cell_type": "code",
   "execution_count": 21,
   "metadata": {},
   "outputs": [
    {
     "data": {
      "application/vnd.plotly.v1+json": {
       "config": {
        "linkText": "Export to plot.ly",
        "plotlyServerURL": "https://plot.ly",
        "showLink": false
       },
       "data": [
        {
         "marker": {
          "color": "#fde725"
         },
         "name": "F1 score",
         "type": "bar",
         "uid": "9b2efe50-cec9-4126-bf29-a70958a6ed5a",
         "x": [
          "naive bayes",
          "logistic regression",
          "k-nearest neighbors",
          "random forest",
          "neural net"
         ],
         "y": [
          0.004475703324808184,
          0.010886967659301952,
          0.0202020202020202,
          0,
          0.959263444545303
         ]
        },
        {
         "marker": {
          "color": "#28ae80"
         },
         "name": "Accuracy",
         "type": "bar",
         "uid": "46199f85-fa7d-4687-ac93-9bf789ecc8eb",
         "x": [
          "naive bayes",
          "logistic regression",
          "k-nearest neighbors",
          "random forest",
          "neural net"
         ],
         "y": [
          0.7784497171925581,
          0.8901141901746648,
          0.9965493934758636,
          0.999003948632208,
          0.9217743943651951
         ]
        },
        {
         "marker": {
          "color": "#440154"
         },
         "name": "AUC score",
         "type": "bar",
         "uid": "c2f9fe3c-534b-4db1-9e38-cd9e8bb3ec6e",
         "x": [
          "naive bayes",
          "logistic regression",
          "k-nearest neighbors",
          "random forest",
          "neural net"
         ],
         "y": [
          0.6693220821761732,
          0.7851506088442641,
          0.5187004201381471,
          0.499946592608417,
          0.8809235918251086
         ]
        }
       ],
       "layout": {
        "title": {
         "text": "Comparison of Possible Models"
        },
        "xaxis": {
         "title": {
          "text": "Predictive models"
         }
        },
        "yaxis": {
         "title": {
          "text": "Score"
         }
        }
       }
      },
      "text/html": [
       "<div id=\"108dc1dd-39b4-494e-ac37-c5fab98e994f\" style=\"height: 525px; width: 100%;\" class=\"plotly-graph-div\"></div><script type=\"text/javascript\">require([\"plotly\"], function(Plotly) { window.PLOTLYENV=window.PLOTLYENV || {};window.PLOTLYENV.BASE_URL=\"https://plot.ly\";\n",
       "if (document.getElementById(\"108dc1dd-39b4-494e-ac37-c5fab98e994f\")) {\n",
       "    Plotly.newPlot(\"108dc1dd-39b4-494e-ac37-c5fab98e994f\", [{\"marker\": {\"color\": \"#fde725\"}, \"name\": \"F1 score\", \"x\": [\"naive bayes\", \"logistic regression\", \"k-nearest neighbors\", \"random forest\", \"neural net\"], \"y\": [0.004475703324808184, 0.010886967659301952, 0.0202020202020202, 0.0, 0.959263444545303], \"type\": \"bar\", \"uid\": \"9b2efe50-cec9-4126-bf29-a70958a6ed5a\"}, {\"marker\": {\"color\": \"#28ae80\"}, \"name\": \"Accuracy\", \"x\": [\"naive bayes\", \"logistic regression\", \"k-nearest neighbors\", \"random forest\", \"neural net\"], \"y\": [0.7784497171925581, 0.8901141901746648, 0.9965493934758636, 0.999003948632208, 0.9217743943651951], \"type\": \"bar\", \"uid\": \"46199f85-fa7d-4687-ac93-9bf789ecc8eb\"}, {\"marker\": {\"color\": \"#440154\"}, \"name\": \"AUC score\", \"x\": [\"naive bayes\", \"logistic regression\", \"k-nearest neighbors\", \"random forest\", \"neural net\"], \"y\": [0.6693220821761732, 0.7851506088442641, 0.5187004201381471, 0.499946592608417, 0.8809235918251086], \"type\": \"bar\", \"uid\": \"c2f9fe3c-534b-4db1-9e38-cd9e8bb3ec6e\"}], {\"title\": {\"text\": \"Comparison of Possible Models\"}, \"xaxis\": {\"title\": {\"text\": \"Predictive models\"}}, \"yaxis\": {\"title\": {\"text\": \"Score\"}}}, {\"showLink\": false, \"linkText\": \"Export to plot.ly\", \"plotlyServerURL\": \"https://plot.ly\"}); \n",
       "}\n",
       "});</script><script type=\"text/javascript\">window.addEventListener(\"resize\", function(){if (document.getElementById(\"108dc1dd-39b4-494e-ac37-c5fab98e994f\")) {window._Plotly.Plots.resize(document.getElementById(\"108dc1dd-39b4-494e-ac37-c5fab98e994f\"));};})</script>"
      ],
      "text/vnd.plotly.v1+html": [
       "<div id=\"108dc1dd-39b4-494e-ac37-c5fab98e994f\" style=\"height: 525px; width: 100%;\" class=\"plotly-graph-div\"></div><script type=\"text/javascript\">require([\"plotly\"], function(Plotly) { window.PLOTLYENV=window.PLOTLYENV || {};window.PLOTLYENV.BASE_URL=\"https://plot.ly\";\n",
       "if (document.getElementById(\"108dc1dd-39b4-494e-ac37-c5fab98e994f\")) {\n",
       "    Plotly.newPlot(\"108dc1dd-39b4-494e-ac37-c5fab98e994f\", [{\"marker\": {\"color\": \"#fde725\"}, \"name\": \"F1 score\", \"x\": [\"naive bayes\", \"logistic regression\", \"k-nearest neighbors\", \"random forest\", \"neural net\"], \"y\": [0.004475703324808184, 0.010886967659301952, 0.0202020202020202, 0.0, 0.959263444545303], \"type\": \"bar\", \"uid\": \"9b2efe50-cec9-4126-bf29-a70958a6ed5a\"}, {\"marker\": {\"color\": \"#28ae80\"}, \"name\": \"Accuracy\", \"x\": [\"naive bayes\", \"logistic regression\", \"k-nearest neighbors\", \"random forest\", \"neural net\"], \"y\": [0.7784497171925581, 0.8901141901746648, 0.9965493934758636, 0.999003948632208, 0.9217743943651951], \"type\": \"bar\", \"uid\": \"46199f85-fa7d-4687-ac93-9bf789ecc8eb\"}, {\"marker\": {\"color\": \"#440154\"}, \"name\": \"AUC score\", \"x\": [\"naive bayes\", \"logistic regression\", \"k-nearest neighbors\", \"random forest\", \"neural net\"], \"y\": [0.6693220821761732, 0.7851506088442641, 0.5187004201381471, 0.499946592608417, 0.8809235918251086], \"type\": \"bar\", \"uid\": \"c2f9fe3c-534b-4db1-9e38-cd9e8bb3ec6e\"}], {\"title\": {\"text\": \"Comparison of Possible Models\"}, \"xaxis\": {\"title\": {\"text\": \"Predictive models\"}}, \"yaxis\": {\"title\": {\"text\": \"Score\"}}}, {\"showLink\": false, \"linkText\": \"Export to plot.ly\", \"plotlyServerURL\": \"https://plot.ly\"}); \n",
       "}\n",
       "});</script><script type=\"text/javascript\">window.addEventListener(\"resize\", function(){if (document.getElementById(\"108dc1dd-39b4-494e-ac37-c5fab98e994f\")) {window._Plotly.Plots.resize(document.getElementById(\"108dc1dd-39b4-494e-ac37-c5fab98e994f\"));};})</script>"
      ]
     },
     "metadata": {},
     "output_type": "display_data"
    }
   ],
   "source": [
    "# Let's display that with plotly.\n",
    "mydata1 = go.Bar(\n",
    "    x=results.loc['F1 score'].index,\n",
    "    y=results.loc['F1 score'],\n",
    "    name=results.index[0],\n",
    "    marker=dict(color=Viridis[16])\n",
    ")\n",
    "mydata2 = go.Bar(\n",
    "    x=results.loc['Accuracy'].index,\n",
    "    y=results.loc['Accuracy'],\n",
    "    name=results.index[1],\n",
    "    marker=dict(color=Viridis[10])\n",
    ")\n",
    "mydata3 = go.Bar(\n",
    "    x=results.loc['AUC score'].index,\n",
    "    y=results.loc['AUC score'],\n",
    "    name=results.index[2],\n",
    "    marker=dict(color=Viridis[0])\n",
    ")\n",
    "mylayout = go.Layout(\n",
    "    title='Comparison of Possible Models',\n",
    "    xaxis = dict(title = 'Predictive models'), # x-axis label\n",
    "    yaxis = dict(title = 'Score'), # y-axis label\n",
    "    \n",
    ")\n",
    "fig = go.Figure(data=[mydata1, mydata2, mydata3], layout=mylayout)\n",
    "pio.write_image(fig, '../images/net_metric.png')\n",
    "iplot(fig)"
   ]
  },
  {
   "cell_type": "markdown",
   "metadata": {},
   "source": [
    "The neural net is clearly superior to the other models we tried. Not only does it have a higher ROC-AUC score (86%), but its F1 score (96%) is excellent.  Accuracy is lower, but this is not important given the imbalanced classes of our dataset."
   ]
  },
  {
   "cell_type": "code",
   "execution_count": 22,
   "metadata": {},
   "outputs": [
    {
     "data": {
      "text/plain": [
       "{'ROC-AUC score': 0.8809235918251086,\n",
       " 'accuracy score': 0.9217743943651951,\n",
       " 'error rate': 0.07822560563480485,\n",
       " 'f1 score': 0.959263444545303,\n",
       " 'precision score': 0.9998455300251013,\n",
       " 'recall score': 0.9218471836502172}"
      ]
     },
     "execution_count": 22,
     "metadata": {},
     "output_type": "execute_result"
    }
   ],
   "source": [
    "def model_metrics(y_test, predictions):\n",
    "    '''\n",
    "    Calculate 5 standard model metrics\n",
    "    Return a dictionary with the metrics\n",
    "    '''\n",
    "    f1 = metrics.f1_score(y_test, predictions)\n",
    "    accuracy = metrics.accuracy_score(y_test, predictions)\n",
    "    error = 1 - accuracy\n",
    "    precision = metrics.precision_score(y_test, predictions)\n",
    "    recall = metrics.recall_score(y_test, predictions)\n",
    "    rocauc =  metrics.roc_auc_score(y_test, predictions)\n",
    "    return {'f1 score':f1, 'accuracy score': accuracy, 'error rate': error, 'precision score': precision, 'recall score': recall, 'ROC-AUC score': rocauc}\n",
    "\n",
    "model_metrics(y_test, predictions)"
   ]
  },
  {
   "cell_type": "markdown",
   "metadata": {},
   "source": [
    "### ROC-AUC (Receiver Operating Characteristic - Area Under the Curve)"
   ]
  },
  {
   "cell_type": "code",
   "execution_count": 23,
   "metadata": {},
   "outputs": [
    {
     "data": {
      "text/plain": [
       "88.1"
      ]
     },
     "execution_count": 23,
     "metadata": {},
     "output_type": "execute_result"
    }
   ],
   "source": [
    "FPR, TPR, _ = roc_curve(y_test, predictions)\n",
    "roc_score=round(100*roc_auc_score(y_test, predictions),1)\n",
    "roc_score"
   ]
  },
  {
   "cell_type": "code",
   "execution_count": 24,
   "metadata": {},
   "outputs": [
    {
     "data": {
      "application/vnd.plotly.v1+json": {
       "config": {
        "linkText": "Export to plot.ly",
        "plotlyServerURL": "https://plot.ly",
        "showLink": false
       },
       "data": [
        {
         "mode": "lines",
         "name": "AUC: 88.1",
         "type": "scatter",
         "uid": "c18b857d-7ad8-4ebe-8a42-9fb45d0bf32f",
         "x": [
          0,
          0.16,
          1
         ],
         "y": [
          0,
          0.9218471836502172,
          1
         ]
        },
        {
         "mode": "lines",
         "name": "Baseline Area: 50.0",
         "type": "scatter",
         "uid": "82abb27e-805f-43c1-b2a6-159a144a0112",
         "x": [
          0,
          1
         ],
         "y": [
          0,
          1
         ]
        }
       ],
       "layout": {
        "height": 600,
        "title": {
         "text": "Receiver Operating Characteristic - Area Under Curve"
        },
        "width": 650
       }
      },
      "text/html": [
       "<div id=\"5af07659-5e0b-496c-8c50-9359b40f4acc\" style=\"height: 600px; width: 650px;\" class=\"plotly-graph-div\"></div><script type=\"text/javascript\">require([\"plotly\"], function(Plotly) { window.PLOTLYENV=window.PLOTLYENV || {};window.PLOTLYENV.BASE_URL=\"https://plot.ly\";\n",
       "if (document.getElementById(\"5af07659-5e0b-496c-8c50-9359b40f4acc\")) {\n",
       "    Plotly.newPlot(\"5af07659-5e0b-496c-8c50-9359b40f4acc\", [{\"mode\": \"lines\", \"name\": \"AUC: 88.1\", \"x\": [0.0, 0.16, 1.0], \"y\": [0.0, 0.9218471836502172, 1.0], \"type\": \"scatter\", \"uid\": \"c18b857d-7ad8-4ebe-8a42-9fb45d0bf32f\"}, {\"mode\": \"lines\", \"name\": \"Baseline Area: 50.0\", \"x\": [0, 1], \"y\": [0, 1], \"type\": \"scatter\", \"uid\": \"82abb27e-805f-43c1-b2a6-159a144a0112\"}], {\"height\": 600, \"title\": {\"text\": \"Receiver Operating Characteristic - Area Under Curve\"}, \"width\": 650}, {\"showLink\": false, \"linkText\": \"Export to plot.ly\", \"plotlyServerURL\": \"https://plot.ly\"}); \n",
       "}\n",
       "});</script>"
      ],
      "text/vnd.plotly.v1+html": [
       "<div id=\"5af07659-5e0b-496c-8c50-9359b40f4acc\" style=\"height: 600px; width: 650px;\" class=\"plotly-graph-div\"></div><script type=\"text/javascript\">require([\"plotly\"], function(Plotly) { window.PLOTLYENV=window.PLOTLYENV || {};window.PLOTLYENV.BASE_URL=\"https://plot.ly\";\n",
       "if (document.getElementById(\"5af07659-5e0b-496c-8c50-9359b40f4acc\")) {\n",
       "    Plotly.newPlot(\"5af07659-5e0b-496c-8c50-9359b40f4acc\", [{\"mode\": \"lines\", \"name\": \"AUC: 88.1\", \"x\": [0.0, 0.16, 1.0], \"y\": [0.0, 0.9218471836502172, 1.0], \"type\": \"scatter\", \"uid\": \"c18b857d-7ad8-4ebe-8a42-9fb45d0bf32f\"}, {\"mode\": \"lines\", \"name\": \"Baseline Area: 50.0\", \"x\": [0, 1], \"y\": [0, 1], \"type\": \"scatter\", \"uid\": \"82abb27e-805f-43c1-b2a6-159a144a0112\"}], {\"height\": 600, \"title\": {\"text\": \"Receiver Operating Characteristic - Area Under Curve\"}, \"width\": 650}, {\"showLink\": false, \"linkText\": \"Export to plot.ly\", \"plotlyServerURL\": \"https://plot.ly\"}); \n",
       "}\n",
       "});</script>"
      ]
     },
     "metadata": {},
     "output_type": "display_data"
    }
   ],
   "source": [
    "# ROC-AUC figure\n",
    "\n",
    "data = [\n",
    "    {\n",
    "      'x':FPR, \n",
    "      'y':TPR, \n",
    "      'type':'scatter',\n",
    "      'mode': 'lines',\n",
    "      'name': 'AUC: '+str(roc_score)\n",
    "      },\n",
    "     {'x':[0,1], \n",
    "      'y':[0,1], \n",
    "      'type':'scatter',\n",
    "      'mode': 'lines',\n",
    "      'name': 'Baseline Area: 50.0'}]\n",
    "\n",
    "layout = go.Layout(\n",
    "    title = 'Receiver Operating Characteristic - Area Under Curve',\n",
    "    width=650,\n",
    "    height=600, \n",
    ")\n",
    "fig = go.Figure(data=data, layout=layout)\n",
    "pio.write_image(fig, '../images/net_rocauc.png')\n",
    "iplot(fig)"
   ]
  },
  {
   "cell_type": "code",
   "execution_count": 25,
   "metadata": {},
   "outputs": [],
   "source": [
    "# A confusion matrix tells us our false positives and false negatives:\n",
    "matrix=confusion_matrix(y_test, predictions)\n",
    "cm=pd.DataFrame(matrix, columns=['predicted: +', 'predicted: -'], index=['ground truth: +', 'ground truth: -'])\n",
    "cm=cm.reset_index(drop=False)\n",
    "cm=cm.rename(columns={'index': f'n = {len(y_test)}'})"
   ]
  },
  {
   "cell_type": "code",
   "execution_count": 26,
   "metadata": {},
   "outputs": [
    {
     "data": {
      "application/vnd.plotly.v1+json": {
       "config": {
        "linkText": "Export to plot.ly",
        "plotlyServerURL": "https://plot.ly",
        "showLink": false
       },
       "data": [
        {
         "colorscale": [
          [
           0,
           "#00083e"
          ],
          [
           0.5,
           "#ededee"
          ],
          [
           1,
           "#ffffff"
          ]
         ],
         "hoverinfo": "none",
         "opacity": 0.75,
         "showscale": false,
         "type": "heatmap",
         "uid": "172508c3-83b3-47fb-b98f-1998514b3f8a",
         "z": [
          [
           0,
           0,
           0
          ],
          [
           0.5,
           0.5,
           0.5
          ],
          [
           1,
           1,
           1
          ]
         ]
        }
       ],
       "layout": {
        "annotations": [
         {
          "align": "left",
          "font": {
           "color": "#ffffff"
          },
          "showarrow": false,
          "text": "<b>n = 28111</b>",
          "x": -0.45,
          "xanchor": "left",
          "xref": "x",
          "y": 0,
          "yref": "y"
         },
         {
          "align": "left",
          "font": {
           "color": "#ffffff"
          },
          "showarrow": false,
          "text": "<b>predicted: +</b>",
          "x": 0.55,
          "xanchor": "left",
          "xref": "x",
          "y": 0,
          "yref": "y"
         },
         {
          "align": "left",
          "font": {
           "color": "#ffffff"
          },
          "showarrow": false,
          "text": "<b>predicted: -</b>",
          "x": 1.55,
          "xanchor": "left",
          "xref": "x",
          "y": 0,
          "yref": "y"
         },
         {
          "align": "left",
          "font": {
           "color": "#000000"
          },
          "showarrow": false,
          "text": "ground truth: +",
          "x": -0.45,
          "xanchor": "left",
          "xref": "x",
          "y": 1,
          "yref": "y"
         },
         {
          "align": "left",
          "font": {
           "color": "#000000"
          },
          "showarrow": false,
          "text": "21",
          "x": 0.55,
          "xanchor": "left",
          "xref": "x",
          "y": 1,
          "yref": "y"
         },
         {
          "align": "left",
          "font": {
           "color": "#000000"
          },
          "showarrow": false,
          "text": "4",
          "x": 1.55,
          "xanchor": "left",
          "xref": "x",
          "y": 1,
          "yref": "y"
         },
         {
          "align": "left",
          "font": {
           "color": "#000000"
          },
          "showarrow": false,
          "text": "ground truth: -",
          "x": -0.45,
          "xanchor": "left",
          "xref": "x",
          "y": 2,
          "yref": "y"
         },
         {
          "align": "left",
          "font": {
           "color": "#000000"
          },
          "showarrow": false,
          "text": "2195",
          "x": 0.55,
          "xanchor": "left",
          "xref": "x",
          "y": 2,
          "yref": "y"
         },
         {
          "align": "left",
          "font": {
           "color": "#000000"
          },
          "showarrow": false,
          "text": "25891",
          "x": 1.55,
          "xanchor": "left",
          "xref": "x",
          "y": 2,
          "yref": "y"
         }
        ],
        "height": 140,
        "margin": {
         "b": 0,
         "l": 0,
         "r": 0,
         "t": 0
        },
        "xaxis": {
         "dtick": 1,
         "gridwidth": 2,
         "showticklabels": false,
         "tick0": -0.5,
         "ticks": "",
         "zeroline": false
        },
        "yaxis": {
         "autorange": "reversed",
         "dtick": 1,
         "gridwidth": 2,
         "showticklabels": false,
         "tick0": 0.5,
         "ticks": "",
         "zeroline": false
        }
       }
      },
      "text/html": [
       "<div id=\"11b1d296-c71e-4d95-8e15-dc79efad01b1\" style=\"height: 140px; width: 100%;\" class=\"plotly-graph-div\"></div><script type=\"text/javascript\">require([\"plotly\"], function(Plotly) { window.PLOTLYENV=window.PLOTLYENV || {};window.PLOTLYENV.BASE_URL=\"https://plot.ly\";\n",
       "if (document.getElementById(\"11b1d296-c71e-4d95-8e15-dc79efad01b1\")) {\n",
       "    Plotly.newPlot(\"11b1d296-c71e-4d95-8e15-dc79efad01b1\", [{\"colorscale\": [[0, \"#00083e\"], [0.5, \"#ededee\"], [1, \"#ffffff\"]], \"hoverinfo\": \"none\", \"opacity\": 0.75, \"showscale\": false, \"z\": [[0, 0, 0], [0.5, 0.5, 0.5], [1, 1, 1]], \"type\": \"heatmap\", \"uid\": \"172508c3-83b3-47fb-b98f-1998514b3f8a\"}], {\"annotations\": [{\"align\": \"left\", \"font\": {\"color\": \"#ffffff\"}, \"showarrow\": false, \"text\": \"<b>n = 28111</b>\", \"x\": -0.45, \"xanchor\": \"left\", \"xref\": \"x\", \"y\": 0, \"yref\": \"y\"}, {\"align\": \"left\", \"font\": {\"color\": \"#ffffff\"}, \"showarrow\": false, \"text\": \"<b>predicted: +</b>\", \"x\": 0.55, \"xanchor\": \"left\", \"xref\": \"x\", \"y\": 0, \"yref\": \"y\"}, {\"align\": \"left\", \"font\": {\"color\": \"#ffffff\"}, \"showarrow\": false, \"text\": \"<b>predicted: -</b>\", \"x\": 1.55, \"xanchor\": \"left\", \"xref\": \"x\", \"y\": 0, \"yref\": \"y\"}, {\"align\": \"left\", \"font\": {\"color\": \"#000000\"}, \"showarrow\": false, \"text\": \"ground truth: +\", \"x\": -0.45, \"xanchor\": \"left\", \"xref\": \"x\", \"y\": 1, \"yref\": \"y\"}, {\"align\": \"left\", \"font\": {\"color\": \"#000000\"}, \"showarrow\": false, \"text\": \"21\", \"x\": 0.55, \"xanchor\": \"left\", \"xref\": \"x\", \"y\": 1, \"yref\": \"y\"}, {\"align\": \"left\", \"font\": {\"color\": \"#000000\"}, \"showarrow\": false, \"text\": \"4\", \"x\": 1.55, \"xanchor\": \"left\", \"xref\": \"x\", \"y\": 1, \"yref\": \"y\"}, {\"align\": \"left\", \"font\": {\"color\": \"#000000\"}, \"showarrow\": false, \"text\": \"ground truth: -\", \"x\": -0.45, \"xanchor\": \"left\", \"xref\": \"x\", \"y\": 2, \"yref\": \"y\"}, {\"align\": \"left\", \"font\": {\"color\": \"#000000\"}, \"showarrow\": false, \"text\": \"2195\", \"x\": 0.55, \"xanchor\": \"left\", \"xref\": \"x\", \"y\": 2, \"yref\": \"y\"}, {\"align\": \"left\", \"font\": {\"color\": \"#000000\"}, \"showarrow\": false, \"text\": \"25891\", \"x\": 1.55, \"xanchor\": \"left\", \"xref\": \"x\", \"y\": 2, \"yref\": \"y\"}], \"height\": 140, \"margin\": {\"b\": 0, \"l\": 0, \"r\": 0, \"t\": 0}, \"xaxis\": {\"dtick\": 1, \"gridwidth\": 2, \"showticklabels\": false, \"tick0\": -0.5, \"ticks\": \"\", \"zeroline\": false}, \"yaxis\": {\"autorange\": \"reversed\", \"dtick\": 1, \"gridwidth\": 2, \"showticklabels\": false, \"tick0\": 0.5, \"ticks\": \"\", \"zeroline\": false}}, {\"showLink\": false, \"linkText\": \"Export to plot.ly\", \"plotlyServerURL\": \"https://plot.ly\"}); \n",
       "}\n",
       "});</script><script type=\"text/javascript\">window.addEventListener(\"resize\", function(){if (document.getElementById(\"11b1d296-c71e-4d95-8e15-dc79efad01b1\")) {window._Plotly.Plots.resize(document.getElementById(\"11b1d296-c71e-4d95-8e15-dc79efad01b1\"));};})</script>"
      ],
      "text/vnd.plotly.v1+html": [
       "<div id=\"11b1d296-c71e-4d95-8e15-dc79efad01b1\" style=\"height: 140px; width: 100%;\" class=\"plotly-graph-div\"></div><script type=\"text/javascript\">require([\"plotly\"], function(Plotly) { window.PLOTLYENV=window.PLOTLYENV || {};window.PLOTLYENV.BASE_URL=\"https://plot.ly\";\n",
       "if (document.getElementById(\"11b1d296-c71e-4d95-8e15-dc79efad01b1\")) {\n",
       "    Plotly.newPlot(\"11b1d296-c71e-4d95-8e15-dc79efad01b1\", [{\"colorscale\": [[0, \"#00083e\"], [0.5, \"#ededee\"], [1, \"#ffffff\"]], \"hoverinfo\": \"none\", \"opacity\": 0.75, \"showscale\": false, \"z\": [[0, 0, 0], [0.5, 0.5, 0.5], [1, 1, 1]], \"type\": \"heatmap\", \"uid\": \"172508c3-83b3-47fb-b98f-1998514b3f8a\"}], {\"annotations\": [{\"align\": \"left\", \"font\": {\"color\": \"#ffffff\"}, \"showarrow\": false, \"text\": \"<b>n = 28111</b>\", \"x\": -0.45, \"xanchor\": \"left\", \"xref\": \"x\", \"y\": 0, \"yref\": \"y\"}, {\"align\": \"left\", \"font\": {\"color\": \"#ffffff\"}, \"showarrow\": false, \"text\": \"<b>predicted: +</b>\", \"x\": 0.55, \"xanchor\": \"left\", \"xref\": \"x\", \"y\": 0, \"yref\": \"y\"}, {\"align\": \"left\", \"font\": {\"color\": \"#ffffff\"}, \"showarrow\": false, \"text\": \"<b>predicted: -</b>\", \"x\": 1.55, \"xanchor\": \"left\", \"xref\": \"x\", \"y\": 0, \"yref\": \"y\"}, {\"align\": \"left\", \"font\": {\"color\": \"#000000\"}, \"showarrow\": false, \"text\": \"ground truth: +\", \"x\": -0.45, \"xanchor\": \"left\", \"xref\": \"x\", \"y\": 1, \"yref\": \"y\"}, {\"align\": \"left\", \"font\": {\"color\": \"#000000\"}, \"showarrow\": false, \"text\": \"21\", \"x\": 0.55, \"xanchor\": \"left\", \"xref\": \"x\", \"y\": 1, \"yref\": \"y\"}, {\"align\": \"left\", \"font\": {\"color\": \"#000000\"}, \"showarrow\": false, \"text\": \"4\", \"x\": 1.55, \"xanchor\": \"left\", \"xref\": \"x\", \"y\": 1, \"yref\": \"y\"}, {\"align\": \"left\", \"font\": {\"color\": \"#000000\"}, \"showarrow\": false, \"text\": \"ground truth: -\", \"x\": -0.45, \"xanchor\": \"left\", \"xref\": \"x\", \"y\": 2, \"yref\": \"y\"}, {\"align\": \"left\", \"font\": {\"color\": \"#000000\"}, \"showarrow\": false, \"text\": \"2195\", \"x\": 0.55, \"xanchor\": \"left\", \"xref\": \"x\", \"y\": 2, \"yref\": \"y\"}, {\"align\": \"left\", \"font\": {\"color\": \"#000000\"}, \"showarrow\": false, \"text\": \"25891\", \"x\": 1.55, \"xanchor\": \"left\", \"xref\": \"x\", \"y\": 2, \"yref\": \"y\"}], \"height\": 140, \"margin\": {\"b\": 0, \"l\": 0, \"r\": 0, \"t\": 0}, \"xaxis\": {\"dtick\": 1, \"gridwidth\": 2, \"showticklabels\": false, \"tick0\": -0.5, \"ticks\": \"\", \"zeroline\": false}, \"yaxis\": {\"autorange\": \"reversed\", \"dtick\": 1, \"gridwidth\": 2, \"showticklabels\": false, \"tick0\": 0.5, \"ticks\": \"\", \"zeroline\": false}}, {\"showLink\": false, \"linkText\": \"Export to plot.ly\", \"plotlyServerURL\": \"https://plot.ly\"}); \n",
       "}\n",
       "});</script><script type=\"text/javascript\">window.addEventListener(\"resize\", function(){if (document.getElementById(\"11b1d296-c71e-4d95-8e15-dc79efad01b1\")) {window._Plotly.Plots.resize(document.getElementById(\"11b1d296-c71e-4d95-8e15-dc79efad01b1\"));};})</script>"
      ]
     },
     "metadata": {},
     "output_type": "display_data"
    }
   ],
   "source": [
    "import plotly.figure_factory as ff\n",
    "table = ff.create_table(cm)\n",
    "iplot(table)"
   ]
  },
  {
   "cell_type": "code",
   "execution_count": 54,
   "metadata": {},
   "outputs": [],
   "source": [
    "# Pickle the results \n",
    "with open('../data/confu_matrix7.pkl', 'wb') as f:\n",
    "    pickle.dump(cm, f)\n",
    "f.close()"
   ]
  },
  {
   "cell_type": "markdown",
   "metadata": {},
   "source": [
    "## How often are we accurate when aggregated to the device level?"
   ]
  },
  {
   "cell_type": "code",
   "execution_count": 28,
   "metadata": {},
   "outputs": [
    {
     "name": "stdout",
     "output_type": "stream",
     "text": [
      "y_test:  28111\n",
      "predictions:  28111\n",
      "combined:  28111\n"
     ]
    }
   ],
   "source": [
    "y1_test=y1_test.reset_index(drop=True) # for the concat to work correctly, must have a clean index.\n",
    "X1_test=X1_test.reset_index(drop=True) \n",
    "\n",
    "preds_df=pd.DataFrame(predictions, columns=['preds'])\n",
    "combined_testdf=pd.concat([y1_test, preds_df], axis=1)\n",
    "combined_testdf=pd.concat([combined_testdf, X1_test], axis=1)\n",
    "\n",
    "print('y_test: ', len(y1_test))\n",
    "print('predictions: ', len(preds_df))\n",
    "print('combined: ', len(combined_testdf))"
   ]
  },
  {
   "cell_type": "code",
   "execution_count": 29,
   "metadata": {},
   "outputs": [
    {
     "data": {
      "text/html": [
       "<div>\n",
       "<style scoped>\n",
       "    .dataframe tbody tr th:only-of-type {\n",
       "        vertical-align: middle;\n",
       "    }\n",
       "\n",
       "    .dataframe tbody tr th {\n",
       "        vertical-align: top;\n",
       "    }\n",
       "\n",
       "    .dataframe thead th {\n",
       "        text-align: right;\n",
       "    }\n",
       "</style>\n",
       "<table border=\"1\" class=\"dataframe\">\n",
       "  <thead>\n",
       "    <tr style=\"text-align: right;\">\n",
       "      <th></th>\n",
       "      <th>device</th>\n",
       "      <th>failure</th>\n",
       "      <th>preds</th>\n",
       "      <th>ndays</th>\n",
       "      <th>attribute2</th>\n",
       "      <th>attribute3</th>\n",
       "      <th>attribute4</th>\n",
       "      <th>att5</th>\n",
       "      <th>att6</th>\n",
       "      <th>attribute7</th>\n",
       "      <th>...</th>\n",
       "      <th>att5_lag03</th>\n",
       "      <th>att5_lag04</th>\n",
       "      <th>att6_lag01</th>\n",
       "      <th>att6_lag02</th>\n",
       "      <th>att6_lag03</th>\n",
       "      <th>att6_lag04</th>\n",
       "      <th>attribute7_lag01</th>\n",
       "      <th>attribute7_lag02</th>\n",
       "      <th>attribute7_lag03</th>\n",
       "      <th>attribute7_lag04</th>\n",
       "    </tr>\n",
       "  </thead>\n",
       "  <tbody>\n",
       "    <tr>\n",
       "      <th>0</th>\n",
       "      <td>S1F0S68M</td>\n",
       "      <td>0</td>\n",
       "      <td>1</td>\n",
       "      <td>82</td>\n",
       "      <td>0</td>\n",
       "      <td>0</td>\n",
       "      <td>0</td>\n",
       "      <td>11.0</td>\n",
       "      <td>221134.0</td>\n",
       "      <td>0</td>\n",
       "      <td>...</td>\n",
       "      <td>11.0</td>\n",
       "      <td>11.0</td>\n",
       "      <td>221134.0</td>\n",
       "      <td>221134.0</td>\n",
       "      <td>221134.0</td>\n",
       "      <td>221134.0</td>\n",
       "      <td>0.0</td>\n",
       "      <td>0.0</td>\n",
       "      <td>0.0</td>\n",
       "      <td>0.0</td>\n",
       "    </tr>\n",
       "    <tr>\n",
       "      <th>1</th>\n",
       "      <td>Z1F1R76A</td>\n",
       "      <td>0</td>\n",
       "      <td>1</td>\n",
       "      <td>50</td>\n",
       "      <td>0</td>\n",
       "      <td>0</td>\n",
       "      <td>0</td>\n",
       "      <td>6.0</td>\n",
       "      <td>337980.0</td>\n",
       "      <td>0</td>\n",
       "      <td>...</td>\n",
       "      <td>6.0</td>\n",
       "      <td>6.0</td>\n",
       "      <td>337980.0</td>\n",
       "      <td>337976.0</td>\n",
       "      <td>337976.0</td>\n",
       "      <td>337976.0</td>\n",
       "      <td>0.0</td>\n",
       "      <td>0.0</td>\n",
       "      <td>0.0</td>\n",
       "      <td>0.0</td>\n",
       "    </tr>\n",
       "    <tr>\n",
       "      <th>2</th>\n",
       "      <td>W1F16RA7</td>\n",
       "      <td>0</td>\n",
       "      <td>1</td>\n",
       "      <td>238</td>\n",
       "      <td>0</td>\n",
       "      <td>0</td>\n",
       "      <td>0</td>\n",
       "      <td>12.0</td>\n",
       "      <td>220429.0</td>\n",
       "      <td>0</td>\n",
       "      <td>...</td>\n",
       "      <td>12.0</td>\n",
       "      <td>12.0</td>\n",
       "      <td>220429.0</td>\n",
       "      <td>220429.0</td>\n",
       "      <td>220429.0</td>\n",
       "      <td>220429.0</td>\n",
       "      <td>0.0</td>\n",
       "      <td>0.0</td>\n",
       "      <td>0.0</td>\n",
       "      <td>0.0</td>\n",
       "    </tr>\n",
       "    <tr>\n",
       "      <th>3</th>\n",
       "      <td>S1F131F6</td>\n",
       "      <td>0</td>\n",
       "      <td>1</td>\n",
       "      <td>150</td>\n",
       "      <td>0</td>\n",
       "      <td>0</td>\n",
       "      <td>0</td>\n",
       "      <td>8.0</td>\n",
       "      <td>233912.0</td>\n",
       "      <td>0</td>\n",
       "      <td>...</td>\n",
       "      <td>8.0</td>\n",
       "      <td>8.0</td>\n",
       "      <td>233912.0</td>\n",
       "      <td>233912.0</td>\n",
       "      <td>233912.0</td>\n",
       "      <td>233912.0</td>\n",
       "      <td>0.0</td>\n",
       "      <td>0.0</td>\n",
       "      <td>0.0</td>\n",
       "      <td>0.0</td>\n",
       "    </tr>\n",
       "    <tr>\n",
       "      <th>4</th>\n",
       "      <td>W1F14GTK</td>\n",
       "      <td>0</td>\n",
       "      <td>1</td>\n",
       "      <td>84</td>\n",
       "      <td>0</td>\n",
       "      <td>1</td>\n",
       "      <td>0</td>\n",
       "      <td>18.0</td>\n",
       "      <td>338272.0</td>\n",
       "      <td>0</td>\n",
       "      <td>...</td>\n",
       "      <td>18.0</td>\n",
       "      <td>18.0</td>\n",
       "      <td>338272.0</td>\n",
       "      <td>338271.0</td>\n",
       "      <td>338271.0</td>\n",
       "      <td>338271.0</td>\n",
       "      <td>0.0</td>\n",
       "      <td>0.0</td>\n",
       "      <td>0.0</td>\n",
       "      <td>0.0</td>\n",
       "    </tr>\n",
       "  </tbody>\n",
       "</table>\n",
       "<p>5 rows × 40 columns</p>\n",
       "</div>"
      ],
      "text/plain": [
       "     device  failure  preds  ndays  attribute2  attribute3  attribute4  att5  \\\n",
       "0  S1F0S68M        0      1     82           0           0           0  11.0   \n",
       "1  Z1F1R76A        0      1     50           0           0           0   6.0   \n",
       "2  W1F16RA7        0      1    238           0           0           0  12.0   \n",
       "3  S1F131F6        0      1    150           0           0           0   8.0   \n",
       "4  W1F14GTK        0      1     84           0           1           0  18.0   \n",
       "\n",
       "       att6  attribute7        ...         att5_lag03  att5_lag04  att6_lag01  \\\n",
       "0  221134.0           0        ...               11.0        11.0    221134.0   \n",
       "1  337980.0           0        ...                6.0         6.0    337980.0   \n",
       "2  220429.0           0        ...               12.0        12.0    220429.0   \n",
       "3  233912.0           0        ...                8.0         8.0    233912.0   \n",
       "4  338272.0           0        ...               18.0        18.0    338272.0   \n",
       "\n",
       "   att6_lag02  att6_lag03  att6_lag04  attribute7_lag01  attribute7_lag02  \\\n",
       "0    221134.0    221134.0    221134.0               0.0               0.0   \n",
       "1    337976.0    337976.0    337976.0               0.0               0.0   \n",
       "2    220429.0    220429.0    220429.0               0.0               0.0   \n",
       "3    233912.0    233912.0    233912.0               0.0               0.0   \n",
       "4    338271.0    338271.0    338271.0               0.0               0.0   \n",
       "\n",
       "   attribute7_lag03  attribute7_lag04  \n",
       "0               0.0               0.0  \n",
       "1               0.0               0.0  \n",
       "2               0.0               0.0  \n",
       "3               0.0               0.0  \n",
       "4               0.0               0.0  \n",
       "\n",
       "[5 rows x 40 columns]"
      ]
     },
     "execution_count": 29,
     "metadata": {},
     "output_type": "execute_result"
    }
   ],
   "source": [
    "combined_testdf.head()"
   ]
  },
  {
   "cell_type": "code",
   "execution_count": 30,
   "metadata": {},
   "outputs": [
    {
     "name": "stdout",
     "output_type": "stream",
     "text": [
      "(676, 3)\n"
     ]
    },
    {
     "data": {
      "text/html": [
       "<div>\n",
       "<style scoped>\n",
       "    .dataframe tbody tr th:only-of-type {\n",
       "        vertical-align: middle;\n",
       "    }\n",
       "\n",
       "    .dataframe tbody tr th {\n",
       "        vertical-align: top;\n",
       "    }\n",
       "\n",
       "    .dataframe thead th {\n",
       "        text-align: right;\n",
       "    }\n",
       "</style>\n",
       "<table border=\"1\" class=\"dataframe\">\n",
       "  <thead>\n",
       "    <tr style=\"text-align: right;\">\n",
       "      <th></th>\n",
       "      <th>device</th>\n",
       "      <th>failure</th>\n",
       "      <th>preds</th>\n",
       "    </tr>\n",
       "  </thead>\n",
       "  <tbody>\n",
       "    <tr>\n",
       "      <th>0</th>\n",
       "      <td>S1F01E6Y</td>\n",
       "      <td>0.000000</td>\n",
       "      <td>1.000000</td>\n",
       "    </tr>\n",
       "    <tr>\n",
       "      <th>1</th>\n",
       "      <td>S1F01XDJ</td>\n",
       "      <td>0.000000</td>\n",
       "      <td>1.000000</td>\n",
       "    </tr>\n",
       "    <tr>\n",
       "      <th>2</th>\n",
       "      <td>S1F023H2</td>\n",
       "      <td>0.166667</td>\n",
       "      <td>0.166667</td>\n",
       "    </tr>\n",
       "    <tr>\n",
       "      <th>3</th>\n",
       "      <td>S1F02L38</td>\n",
       "      <td>0.000000</td>\n",
       "      <td>1.000000</td>\n",
       "    </tr>\n",
       "    <tr>\n",
       "      <th>4</th>\n",
       "      <td>S1F03YZM</td>\n",
       "      <td>0.012821</td>\n",
       "      <td>0.551282</td>\n",
       "    </tr>\n",
       "  </tbody>\n",
       "</table>\n",
       "</div>"
      ],
      "text/plain": [
       "     device   failure     preds\n",
       "0  S1F01E6Y  0.000000  1.000000\n",
       "1  S1F01XDJ  0.000000  1.000000\n",
       "2  S1F023H2  0.166667  0.166667\n",
       "3  S1F02L38  0.000000  1.000000\n",
       "4  S1F03YZM  0.012821  0.551282"
      ]
     },
     "execution_count": 30,
     "metadata": {},
     "output_type": "execute_result"
    }
   ],
   "source": [
    "aggdf=combined_testdf.groupby('device')[['device', 'failure', 'preds']].mean().reset_index(drop=False)\n",
    "print(aggdf.shape)\n",
    "aggdf.head()"
   ]
  },
  {
   "cell_type": "code",
   "execution_count": 31,
   "metadata": {},
   "outputs": [
    {
     "data": {
      "text/plain": [
       "0    651\n",
       "1     25\n",
       "Name: failed, dtype: int64"
      ]
     },
     "execution_count": 31,
     "metadata": {},
     "output_type": "execute_result"
    }
   ],
   "source": [
    "aggdf['failed']=0\n",
    "aggdf.loc[aggdf['failure']>0, 'failed']=1\n",
    "aggdf['failed'].value_counts()"
   ]
  },
  {
   "cell_type": "code",
   "execution_count": 32,
   "metadata": {},
   "outputs": [
    {
     "data": {
      "text/plain": [
       "1    660\n",
       "0     16\n",
       "Name: pred_failed, dtype: int64"
      ]
     },
     "execution_count": 32,
     "metadata": {},
     "output_type": "execute_result"
    }
   ],
   "source": [
    "aggdf['pred_failed']=0\n",
    "aggdf.loc[aggdf['preds']>0, 'pred_failed']=1\n",
    "aggdf['pred_failed'].value_counts()"
   ]
  },
  {
   "cell_type": "code",
   "execution_count": 33,
   "metadata": {},
   "outputs": [
    {
     "data": {
      "text/html": [
       "<div>\n",
       "<style scoped>\n",
       "    .dataframe tbody tr th:only-of-type {\n",
       "        vertical-align: middle;\n",
       "    }\n",
       "\n",
       "    .dataframe tbody tr th {\n",
       "        vertical-align: top;\n",
       "    }\n",
       "\n",
       "    .dataframe thead th {\n",
       "        text-align: right;\n",
       "    }\n",
       "</style>\n",
       "<table border=\"1\" class=\"dataframe\">\n",
       "  <thead>\n",
       "    <tr style=\"text-align: right;\">\n",
       "      <th>pred_failed</th>\n",
       "      <th>0</th>\n",
       "      <th>1</th>\n",
       "      <th>All</th>\n",
       "    </tr>\n",
       "    <tr>\n",
       "      <th>failed</th>\n",
       "      <th></th>\n",
       "      <th></th>\n",
       "      <th></th>\n",
       "    </tr>\n",
       "  </thead>\n",
       "  <tbody>\n",
       "    <tr>\n",
       "      <th>0</th>\n",
       "      <td>14</td>\n",
       "      <td>637</td>\n",
       "      <td>651</td>\n",
       "    </tr>\n",
       "    <tr>\n",
       "      <th>1</th>\n",
       "      <td>2</td>\n",
       "      <td>23</td>\n",
       "      <td>25</td>\n",
       "    </tr>\n",
       "    <tr>\n",
       "      <th>All</th>\n",
       "      <td>16</td>\n",
       "      <td>660</td>\n",
       "      <td>676</td>\n",
       "    </tr>\n",
       "  </tbody>\n",
       "</table>\n",
       "</div>"
      ],
      "text/plain": [
       "pred_failed   0    1  All\n",
       "failed                   \n",
       "0            14  637  651\n",
       "1             2   23   25\n",
       "All          16  660  676"
      ]
     },
     "execution_count": 33,
     "metadata": {},
     "output_type": "execute_result"
    }
   ],
   "source": [
    "# Confusion Matrix (device level)\n",
    "pd.crosstab(aggdf['failed'], aggdf['pred_failed'],  margins=True)"
   ]
  },
  {
   "cell_type": "code",
   "execution_count": 34,
   "metadata": {},
   "outputs": [
    {
     "name": "stdout",
     "output_type": "stream",
     "text": [
      "(93701, 39)\n"
     ]
    }
   ],
   "source": [
    "combined_testdf.to_csv('../data/dataset7.gz', compression='gzip', index=False)\n",
    "print(df.shape)"
   ]
  },
  {
   "cell_type": "markdown",
   "metadata": {},
   "source": [
    "## For plotly dash app"
   ]
  },
  {
   "cell_type": "code",
   "execution_count": 38,
   "metadata": {},
   "outputs": [
    {
     "data": {
      "text/plain": [
       "Index(['device', 'failure', 'preds', 'ndays', 'attribute2', 'attribute3',\n",
       "       'attribute4', 'att5', 'att6', 'attribute7', 'S1F0', 'S1F1', 'W1F0',\n",
       "       'W1F1', 'Z1F0', 'Z1F1', 'attribute2_lag01', 'attribute2_lag02',\n",
       "       'attribute2_lag03', 'attribute2_lag04', 'attribute3_lag01',\n",
       "       'attribute3_lag02', 'attribute3_lag03', 'attribute3_lag04',\n",
       "       'attribute4_lag01', 'attribute4_lag02', 'attribute4_lag03',\n",
       "       'attribute4_lag04', 'att5_lag01', 'att5_lag02', 'att5_lag03',\n",
       "       'att5_lag04', 'att6_lag01', 'att6_lag02', 'att6_lag03', 'att6_lag04',\n",
       "       'attribute7_lag01', 'attribute7_lag02', 'attribute7_lag03',\n",
       "       'attribute7_lag04'],\n",
       "      dtype='object')"
      ]
     },
     "execution_count": 38,
     "metadata": {},
     "output_type": "execute_result"
    }
   ],
   "source": [
    "df=combined_testdf\n",
    "df.columns"
   ]
  },
  {
   "cell_type": "code",
   "execution_count": 47,
   "metadata": {},
   "outputs": [
    {
     "data": {
      "text/plain": [
       "88.1"
      ]
     },
     "execution_count": 47,
     "metadata": {},
     "output_type": "execute_result"
    }
   ],
   "source": [
    "from sklearn.metrics import roc_curve, roc_auc_score, auc, log_loss\n",
    "y_test=df['failure'].values\n",
    "predictions=df['preds']\n",
    "y_test = y_test*-1 + 1\n",
    "y_test = y_test.reshape(-1,1)\n",
    "FPR, TPR, _ = roc_curve(y_test, predictions)\n",
    "roc_score=round(100*roc_auc_score(y_test, predictions),1)\n",
    "roc_score"
   ]
  },
  {
   "cell_type": "code",
   "execution_count": 50,
   "metadata": {},
   "outputs": [],
   "source": [
    "# Pickle the results \n",
    "with open('../data/FPR.pkl', 'wb') as f:\n",
    "    pickle.dump(FPR, f)\n",
    "f.close()"
   ]
  },
  {
   "cell_type": "code",
   "execution_count": 51,
   "metadata": {},
   "outputs": [],
   "source": [
    "# Pickle the results \n",
    "with open('../data/TPR.pkl', 'wb') as f:\n",
    "    pickle.dump(TPR, f)\n",
    "f.close()"
   ]
  },
  {
   "cell_type": "code",
   "execution_count": null,
   "metadata": {},
   "outputs": [],
   "source": []
  }
 ],
 "metadata": {
  "kernelspec": {
   "display_name": "Python 3",
   "language": "python",
   "name": "python3"
  },
  "language_info": {
   "codemirror_mode": {
    "name": "ipython",
    "version": 3
   },
   "file_extension": ".py",
   "mimetype": "text/x-python",
   "name": "python",
   "nbconvert_exporter": "python",
   "pygments_lexer": "ipython3",
   "version": "3.6.8"
  }
 },
 "nbformat": 4,
 "nbformat_minor": 2
}
