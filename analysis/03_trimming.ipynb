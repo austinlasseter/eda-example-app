{
 "cells": [
  {
   "cell_type": "code",
   "execution_count": 1,
   "metadata": {},
   "outputs": [],
   "source": [
    "import pandas as pd\n",
    "import numpy as np\n",
    "import re\n",
    "import pickle\n",
    "from sklearn import preprocessing \n",
    "from datetime import datetime"
   ]
  },
  {
   "cell_type": "code",
   "execution_count": 2,
   "metadata": {},
   "outputs": [
    {
     "data": {
      "text/html": [
       "<script type=\"text/javascript\">window.PlotlyConfig = {MathJaxConfig: 'local'};</script><script type=\"text/javascript\">if (window.MathJax) {MathJax.Hub.Config({SVG: {font: \"STIX-Web\"}});}</script><script>requirejs.config({paths: { 'plotly': ['https://cdn.plot.ly/plotly-latest.min']},});if(!window._Plotly) {require(['plotly'],function(plotly) {window._Plotly=plotly;});}</script>"
      ],
      "text/vnd.plotly.v1+html": [
       "<script type=\"text/javascript\">window.PlotlyConfig = {MathJaxConfig: 'local'};</script><script type=\"text/javascript\">if (window.MathJax) {MathJax.Hub.Config({SVG: {font: \"STIX-Web\"}});}</script><script>requirejs.config({paths: { 'plotly': ['https://cdn.plot.ly/plotly-latest.min']},});if(!window._Plotly) {require(['plotly'],function(plotly) {window._Plotly=plotly;});}</script>"
      ]
     },
     "metadata": {},
     "output_type": "display_data"
    }
   ],
   "source": [
    "from plotly.offline import download_plotlyjs, init_notebook_mode, plot, iplot\n",
    "init_notebook_mode(connected=True)\n",
    "import plotly.io as pio\n",
    "import plotly.plotly as py\n",
    "import plotly.graph_objs as go\n",
    "from plotly.graph_objs import *"
   ]
  },
  {
   "cell_type": "code",
   "execution_count": 3,
   "metadata": {},
   "outputs": [
    {
     "name": "stdout",
     "output_type": "stream",
     "text": [
      "(122402, 12)\n"
     ]
    }
   ],
   "source": [
    "# read clean datafile\n",
    "df = pd.read_csv('data/dataset2.gz', compression='gzip', header=0, sep=',', quotechar='\"')\n",
    "print(df.shape)"
   ]
  },
  {
   "cell_type": "code",
   "execution_count": 4,
   "metadata": {},
   "outputs": [],
   "source": [
    "# Define the color palette.\n",
    "Viridis= ['#440154', '#48186a', '#472d7b', '#424086', '#3b528b', '#33638d', '#2c728e', '#26828e', '#21918c', '#1fa088',\n",
    "          '#28ae80', '#3fbc73', '#5ec962', '#84d44b', '#addc30','#d8e219', '#fde725']   "
   ]
  },
  {
   "cell_type": "markdown",
   "metadata": {},
   "source": [
    "## Date time"
   ]
  },
  {
   "cell_type": "code",
   "execution_count": 5,
   "metadata": {},
   "outputs": [
    {
     "name": "stdout",
     "output_type": "stream",
     "text": [
      "object\n"
     ]
    },
    {
     "data": {
      "text/plain": [
       "dtype('<M8[ns]')"
      ]
     },
     "execution_count": 5,
     "metadata": {},
     "output_type": "execute_result"
    }
   ],
   "source": [
    "# The dates are coded as strings.\n",
    "print(df['date'].dtype)\n",
    "# Replace this.\n",
    "df['date']=pd.to_datetime(df['date'],infer_datetime_format=True)\n",
    "df['date'].dtype"
   ]
  },
  {
   "cell_type": "markdown",
   "metadata": {},
   "source": [
    "## Number of devices"
   ]
  },
  {
   "cell_type": "code",
   "execution_count": 6,
   "metadata": {},
   "outputs": [
    {
     "name": "stdout",
     "output_type": "stream",
     "text": [
      "851\n",
      "851\n"
     ]
    }
   ],
   "source": [
    "# Number of unique devices\n",
    "devices=df.groupby('device').max().reset_index(drop=False)\n",
    "print(devices['device'].nunique())\n",
    "print(len(devices))"
   ]
  },
  {
   "cell_type": "markdown",
   "metadata": {},
   "source": [
    "## Correlation of Features"
   ]
  },
  {
   "cell_type": "code",
   "execution_count": 7,
   "metadata": {},
   "outputs": [
    {
     "data": {
      "text/html": [
       "<div>\n",
       "<style>\n",
       "    .dataframe thead tr:only-child th {\n",
       "        text-align: right;\n",
       "    }\n",
       "\n",
       "    .dataframe thead th {\n",
       "        text-align: left;\n",
       "    }\n",
       "\n",
       "    .dataframe tbody tr th {\n",
       "        vertical-align: top;\n",
       "    }\n",
       "</style>\n",
       "<table border=\"1\" class=\"dataframe\">\n",
       "  <thead>\n",
       "    <tr style=\"text-align: right;\">\n",
       "      <th></th>\n",
       "      <th>attribute2</th>\n",
       "      <th>attribute3</th>\n",
       "      <th>attribute4</th>\n",
       "      <th>attribute5</th>\n",
       "      <th>attribute6</th>\n",
       "      <th>attribute7</th>\n",
       "      <th>attribute9</th>\n",
       "      <th>failure</th>\n",
       "    </tr>\n",
       "  </thead>\n",
       "  <tbody>\n",
       "    <tr>\n",
       "      <th>attribute2</th>\n",
       "      <td>1.000000</td>\n",
       "      <td>-0.005345</td>\n",
       "      <td>0.132060</td>\n",
       "      <td>-0.013898</td>\n",
       "      <td>-0.027578</td>\n",
       "      <td>0.139956</td>\n",
       "      <td>-0.005814</td>\n",
       "      <td>0.053854</td>\n",
       "    </tr>\n",
       "    <tr>\n",
       "      <th>attribute3</th>\n",
       "      <td>-0.005345</td>\n",
       "      <td>1.000000</td>\n",
       "      <td>-0.003204</td>\n",
       "      <td>-0.005562</td>\n",
       "      <td>0.007921</td>\n",
       "      <td>-0.002524</td>\n",
       "      <td>0.695875</td>\n",
       "      <td>-0.001276</td>\n",
       "    </tr>\n",
       "    <tr>\n",
       "      <th>attribute4</th>\n",
       "      <td>0.132060</td>\n",
       "      <td>-0.003204</td>\n",
       "      <td>1.000000</td>\n",
       "      <td>-0.004219</td>\n",
       "      <td>0.020685</td>\n",
       "      <td>0.036771</td>\n",
       "      <td>-0.004338</td>\n",
       "      <td>0.082168</td>\n",
       "    </tr>\n",
       "    <tr>\n",
       "      <th>attribute5</th>\n",
       "      <td>-0.013898</td>\n",
       "      <td>-0.005562</td>\n",
       "      <td>-0.004219</td>\n",
       "      <td>1.000000</td>\n",
       "      <td>-0.015059</td>\n",
       "      <td>-0.008205</td>\n",
       "      <td>0.015737</td>\n",
       "      <td>0.002093</td>\n",
       "    </tr>\n",
       "    <tr>\n",
       "      <th>attribute6</th>\n",
       "      <td>-0.027578</td>\n",
       "      <td>0.007921</td>\n",
       "      <td>0.020685</td>\n",
       "      <td>-0.015059</td>\n",
       "      <td>1.000000</td>\n",
       "      <td>-0.014939</td>\n",
       "      <td>0.027450</td>\n",
       "      <td>-0.000478</td>\n",
       "    </tr>\n",
       "    <tr>\n",
       "      <th>attribute7</th>\n",
       "      <td>0.139956</td>\n",
       "      <td>-0.002524</td>\n",
       "      <td>0.036771</td>\n",
       "      <td>-0.008205</td>\n",
       "      <td>-0.014939</td>\n",
       "      <td>1.000000</td>\n",
       "      <td>0.011447</td>\n",
       "      <td>0.124205</td>\n",
       "    </tr>\n",
       "    <tr>\n",
       "      <th>attribute9</th>\n",
       "      <td>-0.005814</td>\n",
       "      <td>0.695875</td>\n",
       "      <td>-0.004338</td>\n",
       "      <td>0.015737</td>\n",
       "      <td>0.027450</td>\n",
       "      <td>0.011447</td>\n",
       "      <td>1.000000</td>\n",
       "      <td>0.002795</td>\n",
       "    </tr>\n",
       "    <tr>\n",
       "      <th>failure</th>\n",
       "      <td>0.053854</td>\n",
       "      <td>-0.001276</td>\n",
       "      <td>0.082168</td>\n",
       "      <td>0.002093</td>\n",
       "      <td>-0.000478</td>\n",
       "      <td>0.124205</td>\n",
       "      <td>0.002795</td>\n",
       "      <td>1.000000</td>\n",
       "    </tr>\n",
       "  </tbody>\n",
       "</table>\n",
       "</div>"
      ],
      "text/plain": [
       "            attribute2  attribute3  attribute4  attribute5  attribute6  \\\n",
       "attribute2    1.000000   -0.005345    0.132060   -0.013898   -0.027578   \n",
       "attribute3   -0.005345    1.000000   -0.003204   -0.005562    0.007921   \n",
       "attribute4    0.132060   -0.003204    1.000000   -0.004219    0.020685   \n",
       "attribute5   -0.013898   -0.005562   -0.004219    1.000000   -0.015059   \n",
       "attribute6   -0.027578    0.007921    0.020685   -0.015059    1.000000   \n",
       "attribute7    0.139956   -0.002524    0.036771   -0.008205   -0.014939   \n",
       "attribute9   -0.005814    0.695875   -0.004338    0.015737    0.027450   \n",
       "failure       0.053854   -0.001276    0.082168    0.002093   -0.000478   \n",
       "\n",
       "            attribute7  attribute9   failure  \n",
       "attribute2    0.139956   -0.005814  0.053854  \n",
       "attribute3   -0.002524    0.695875 -0.001276  \n",
       "attribute4    0.036771   -0.004338  0.082168  \n",
       "attribute5   -0.008205    0.015737  0.002093  \n",
       "attribute6   -0.014939    0.027450 -0.000478  \n",
       "attribute7    1.000000    0.011447  0.124205  \n",
       "attribute9    0.011447    1.000000  0.002795  \n",
       "failure       0.124205    0.002795  1.000000  "
      ]
     },
     "execution_count": 7,
     "metadata": {},
     "output_type": "execute_result"
    }
   ],
   "source": [
    "# heatmap: all attributes, correlation\n",
    "corrs = pd.DataFrame(df[['attribute2', 'attribute3', 'attribute4',\n",
    "       'attribute5', 'attribute6', 'attribute7', 'attribute9', 'failure']].corr())\n",
    "corrs"
   ]
  },
  {
   "cell_type": "code",
   "execution_count": 8,
   "metadata": {},
   "outputs": [
    {
     "data": {
      "application/vnd.plotly.v1+json": {
       "config": {
        "linkText": "Export to plot.ly",
        "plotlyServerURL": "https://plot.ly",
        "showLink": false
       },
       "data": [
        {
         "colorscale": "Viridis",
         "type": "heatmap",
         "uid": "0d223004-0c2b-4509-b341-8895a0549868",
         "x": [
          "attribute2",
          "attribute3",
          "attribute4",
          "attribute5",
          "attribute6",
          "attribute7",
          "attribute9",
          "failure"
         ],
         "y": [
          "failure",
          "attribute9",
          "attribute7",
          "attribute6",
          "attribute5",
          "attribute4",
          "attribute3",
          "attribute2"
         ],
         "z": [
          [
           0.05385415170129709,
           -0.001275930908271003,
           0.08216792736461402,
           0.0020928780871007154,
           -0.0004775799203627954,
           0.12420515985389895,
           0.002794889319602746,
           1
          ],
          [
           -0.005814164599664686,
           0.6958749169713875,
           -0.004337651003988273,
           0.01573719750572345,
           0.027450098036766606,
           0.011446917993672713,
           1,
           0.002794889319602746
          ],
          [
           0.13995640263724318,
           -0.002524381495585065,
           0.03677051127693271,
           -0.008204926675545655,
           -0.014938916884821187,
           1,
           0.011446917993672713,
           0.12420515985389895
          ],
          [
           -0.02757848194975683,
           0.00792114319950945,
           0.020685320450869314,
           -0.015058602505284279,
           1,
           -0.014938916884821187,
           0.027450098036766606,
           -0.0004775799203627954
          ],
          [
           -0.013897944454394816,
           -0.005561883915554128,
           -0.004218553076786192,
           1,
           -0.015058602505284279,
           -0.008204926675545655,
           0.01573719750572345,
           0.0020928780871007154
          ],
          [
           0.13205979417875546,
           -0.0032043854099759466,
           1,
           -0.004218553076786192,
           0.020685320450869314,
           0.03677051127693271,
           -0.004337651003988273,
           0.08216792736461402
          ],
          [
           -0.005344625315481793,
           1,
           -0.0032043854099759466,
           -0.005561883915554128,
           0.00792114319950945,
           -0.002524381495585065,
           0.6958749169713875,
           -0.001275930908271003
          ],
          [
           1,
           -0.005344625315481793,
           0.13205979417875546,
           -0.013897944454394816,
           -0.02757848194975683,
           0.13995640263724318,
           -0.005814164599664686,
           0.05385415170129709
          ]
         ]
        }
       ],
       "layout": {
        "title": {
         "text": "Heatmap of attributes and failure"
        }
       }
      },
      "text/html": [
       "<div id=\"260a8ea2-8fda-49a9-b661-f0e13576fc72\" style=\"height: 525px; width: 100%;\" class=\"plotly-graph-div\"></div><script type=\"text/javascript\">require([\"plotly\"], function(Plotly) { window.PLOTLYENV=window.PLOTLYENV || {};window.PLOTLYENV.BASE_URL=\"https://plot.ly\";\n",
       "if (document.getElementById(\"260a8ea2-8fda-49a9-b661-f0e13576fc72\")) {\n",
       "    Plotly.newPlot(\"260a8ea2-8fda-49a9-b661-f0e13576fc72\", [{\"colorscale\": \"Viridis\", \"x\": [\"attribute2\", \"attribute3\", \"attribute4\", \"attribute5\", \"attribute6\", \"attribute7\", \"attribute9\", \"failure\"], \"y\": [\"failure\", \"attribute9\", \"attribute7\", \"attribute6\", \"attribute5\", \"attribute4\", \"attribute3\", \"attribute2\"], \"z\": [[0.05385415170129709, -0.001275930908271003, 0.08216792736461402, 0.0020928780871007154, -0.0004775799203627954, 0.12420515985389895, 0.002794889319602746, 1.0], [-0.005814164599664686, 0.6958749169713875, -0.004337651003988273, 0.01573719750572345, 0.027450098036766606, 0.011446917993672713, 1.0, 0.002794889319602746], [0.13995640263724318, -0.002524381495585065, 0.03677051127693271, -0.008204926675545655, -0.014938916884821187, 1.0, 0.011446917993672713, 0.12420515985389895], [-0.02757848194975683, 0.00792114319950945, 0.020685320450869314, -0.015058602505284279, 1.0, -0.014938916884821187, 0.027450098036766606, -0.0004775799203627954], [-0.013897944454394816, -0.005561883915554128, -0.004218553076786192, 1.0, -0.015058602505284279, -0.008204926675545655, 0.01573719750572345, 0.0020928780871007154], [0.13205979417875546, -0.0032043854099759466, 1.0, -0.004218553076786192, 0.020685320450869314, 0.03677051127693271, -0.004337651003988273, 0.08216792736461402], [-0.005344625315481793, 1.0, -0.0032043854099759466, -0.005561883915554128, 0.00792114319950945, -0.002524381495585065, 0.6958749169713875, -0.001275930908271003], [1.0, -0.005344625315481793, 0.13205979417875546, -0.013897944454394816, -0.02757848194975683, 0.13995640263724318, -0.005814164599664686, 0.05385415170129709]], \"type\": \"heatmap\", \"uid\": \"0d223004-0c2b-4509-b341-8895a0549868\"}], {\"title\": {\"text\": \"Heatmap of attributes and failure\"}}, {\"showLink\": false, \"linkText\": \"Export to plot.ly\", \"plotlyServerURL\": \"https://plot.ly\"}); \n",
       "}\n",
       "});</script><script type=\"text/javascript\">window.addEventListener(\"resize\", function(){if (document.getElementById(\"260a8ea2-8fda-49a9-b661-f0e13576fc72\")) {window._Plotly.Plots.resize(document.getElementById(\"260a8ea2-8fda-49a9-b661-f0e13576fc72\"));};})</script>"
      ],
      "text/vnd.plotly.v1+html": [
       "<div id=\"260a8ea2-8fda-49a9-b661-f0e13576fc72\" style=\"height: 525px; width: 100%;\" class=\"plotly-graph-div\"></div><script type=\"text/javascript\">require([\"plotly\"], function(Plotly) { window.PLOTLYENV=window.PLOTLYENV || {};window.PLOTLYENV.BASE_URL=\"https://plot.ly\";\n",
       "if (document.getElementById(\"260a8ea2-8fda-49a9-b661-f0e13576fc72\")) {\n",
       "    Plotly.newPlot(\"260a8ea2-8fda-49a9-b661-f0e13576fc72\", [{\"colorscale\": \"Viridis\", \"x\": [\"attribute2\", \"attribute3\", \"attribute4\", \"attribute5\", \"attribute6\", \"attribute7\", \"attribute9\", \"failure\"], \"y\": [\"failure\", \"attribute9\", \"attribute7\", \"attribute6\", \"attribute5\", \"attribute4\", \"attribute3\", \"attribute2\"], \"z\": [[0.05385415170129709, -0.001275930908271003, 0.08216792736461402, 0.0020928780871007154, -0.0004775799203627954, 0.12420515985389895, 0.002794889319602746, 1.0], [-0.005814164599664686, 0.6958749169713875, -0.004337651003988273, 0.01573719750572345, 0.027450098036766606, 0.011446917993672713, 1.0, 0.002794889319602746], [0.13995640263724318, -0.002524381495585065, 0.03677051127693271, -0.008204926675545655, -0.014938916884821187, 1.0, 0.011446917993672713, 0.12420515985389895], [-0.02757848194975683, 0.00792114319950945, 0.020685320450869314, -0.015058602505284279, 1.0, -0.014938916884821187, 0.027450098036766606, -0.0004775799203627954], [-0.013897944454394816, -0.005561883915554128, -0.004218553076786192, 1.0, -0.015058602505284279, -0.008204926675545655, 0.01573719750572345, 0.0020928780871007154], [0.13205979417875546, -0.0032043854099759466, 1.0, -0.004218553076786192, 0.020685320450869314, 0.03677051127693271, -0.004337651003988273, 0.08216792736461402], [-0.005344625315481793, 1.0, -0.0032043854099759466, -0.005561883915554128, 0.00792114319950945, -0.002524381495585065, 0.6958749169713875, -0.001275930908271003], [1.0, -0.005344625315481793, 0.13205979417875546, -0.013897944454394816, -0.02757848194975683, 0.13995640263724318, -0.005814164599664686, 0.05385415170129709]], \"type\": \"heatmap\", \"uid\": \"0d223004-0c2b-4509-b341-8895a0549868\"}], {\"title\": {\"text\": \"Heatmap of attributes and failure\"}}, {\"showLink\": false, \"linkText\": \"Export to plot.ly\", \"plotlyServerURL\": \"https://plot.ly\"}); \n",
       "}\n",
       "});</script><script type=\"text/javascript\">window.addEventListener(\"resize\", function(){if (document.getElementById(\"260a8ea2-8fda-49a9-b661-f0e13576fc72\")) {window._Plotly.Plots.resize(document.getElementById(\"260a8ea2-8fda-49a9-b661-f0e13576fc72\"));};})</script>"
      ]
     },
     "metadata": {},
     "output_type": "display_data"
    }
   ],
   "source": [
    "data = [go.Heatmap(z=corrs.values.tolist()[::-1], \n",
    "                   y=corrs.columns.tolist()[::-1],\n",
    "                   x=corrs.index.tolist(),\n",
    "                   colorscale='Viridis')]\n",
    "layout=go.Layout(\n",
    "        title=\"Heatmap of attributes and failure\")\n",
    "fig = go.Figure(data=data, layout=layout)\n",
    "iplot(fig)"
   ]
  },
  {
   "cell_type": "code",
   "execution_count": 9,
   "metadata": {},
   "outputs": [
    {
     "name": "stdout",
     "output_type": "stream",
     "text": [
      "correlation of 3 & 9: 0.696\n"
     ]
    },
    {
     "data": {
      "text/plain": [
       "(122402, 11)"
      ]
     },
     "execution_count": 9,
     "metadata": {},
     "output_type": "execute_result"
    }
   ],
   "source": [
    "# One correlation pair is unusually high. Typically .7 is the cutoff, so we're going to remove one of these variables.\n",
    "print('correlation of 3 & 9:', round(df['attribute9'].corr(df['attribute3']), 3))\n",
    "df=df.drop('attribute9', axis=1)\n",
    "df.shape"
   ]
  },
  {
   "cell_type": "markdown",
   "metadata": {},
   "source": [
    "## Attributes 1, 5 and 6: Continuous (numerical) data"
   ]
  },
  {
   "cell_type": "code",
   "execution_count": 37,
   "metadata": {},
   "outputs": [
    {
     "data": {
      "text/plain": [
       "count    9.370100e+04\n",
       "mean     1.222246e+08\n",
       "std      7.047940e+07\n",
       "min      0.000000e+00\n",
       "25%      6.113995e+07\n",
       "50%      1.225107e+08\n",
       "75%      1.832279e+08\n",
       "max      2.441386e+08\n",
       "Name: attribute1, dtype: float64"
      ]
     },
     "execution_count": 37,
     "metadata": {},
     "output_type": "execute_result"
    }
   ],
   "source": [
    "# Attribute 1 appears to be an entirely random signal consisting of 9 digits\n",
    "df['attribute1'].describe()"
   ]
  },
  {
   "cell_type": "code",
   "execution_count": 46,
   "metadata": {},
   "outputs": [
    {
     "name": "stdout",
     "output_type": "stream",
     "text": [
      "Int64Index([ 1,  2,  3,  4,  5,  6,  7,  8,  9, 10, 11, 12, 13, 14, 15, 16, 17,\n",
      "            18, 19, 20, 21, 23, 24, 25, 29, 30, 31, 32, 33, 34, 35, 36, 37, 38,\n",
      "            39, 40, 41, 57, 58, 59, 60, 61, 62, 63, 64, 65, 66, 67, 68, 70, 78,\n",
      "            89, 90, 91, 92, 94, 95, 98],\n",
      "           dtype='int64')\n",
      "unique:  58\n",
      "mean:  15.33\n"
     ]
    },
    {
     "data": {
      "text/plain": [
       "8     18018\n",
       "11     9366\n",
       "7      9322\n",
       "9      9292\n",
       "12     7940\n",
       "Name: attribute5, dtype: int64"
      ]
     },
     "execution_count": 46,
     "metadata": {},
     "output_type": "execute_result"
    }
   ],
   "source": [
    "# attribute 5 is a collection of 58 distinct codes ranging from 0 to 100.\n",
    "print(df['attribute5'].value_counts().index.sort_values())\n",
    "print('unique: ', df['attribute5'].value_counts().index.nunique())\n",
    "print('mean: ', round(df['attribute5'].mean(), 2))\n",
    "df['attribute5'].value_counts().head()"
   ]
  },
  {
   "cell_type": "code",
   "execution_count": 39,
   "metadata": {},
   "outputs": [
    {
     "data": {
      "text/plain": [
       "count     93701.000000\n",
       "mean     243250.683600\n",
       "std       86898.347123\n",
       "min           8.000000\n",
       "25%      219649.000000\n",
       "50%      246101.000000\n",
       "75%      289963.000000\n",
       "max      664245.000000\n",
       "Name: attribute6, dtype: float64"
      ]
     },
     "execution_count": 39,
     "metadata": {},
     "output_type": "execute_result"
    }
   ],
   "source": [
    "# Attribute 6 has a gaussian distribution\n",
    "df['attribute6'].describe()"
   ]
  },
  {
   "cell_type": "markdown",
   "metadata": {},
   "source": [
    "## Attributes 2, 3, 4, and 7: Sparse data"
   ]
  },
  {
   "cell_type": "markdown",
   "metadata": {},
   "source": [
    "overall: for 3 of the 9 attributes nearly all of the values are 0"
   ]
  },
  {
   "cell_type": "code",
   "execution_count": 12,
   "metadata": {},
   "outputs": [
    {
     "data": {
      "text/html": [
       "<div>\n",
       "<style>\n",
       "    .dataframe thead tr:only-child th {\n",
       "        text-align: right;\n",
       "    }\n",
       "\n",
       "    .dataframe thead th {\n",
       "        text-align: left;\n",
       "    }\n",
       "\n",
       "    .dataframe tbody tr th {\n",
       "        vertical-align: top;\n",
       "    }\n",
       "</style>\n",
       "<table border=\"1\" class=\"dataframe\">\n",
       "  <thead>\n",
       "    <tr style=\"text-align: right;\">\n",
       "      <th></th>\n",
       "      <th>attribute2</th>\n",
       "      <th>attribute3</th>\n",
       "      <th>attribute4</th>\n",
       "      <th>attribute7</th>\n",
       "    </tr>\n",
       "  </thead>\n",
       "  <tbody>\n",
       "    <tr>\n",
       "      <th>count</th>\n",
       "      <td>122402.000000</td>\n",
       "      <td>122402.000000</td>\n",
       "      <td>122402.000000</td>\n",
       "      <td>122402.000000</td>\n",
       "    </tr>\n",
       "    <tr>\n",
       "      <th>mean</th>\n",
       "      <td>154.850411</td>\n",
       "      <td>9.160961</td>\n",
       "      <td>1.468742</td>\n",
       "      <td>0.273639</td>\n",
       "    </tr>\n",
       "    <tr>\n",
       "      <th>std</th>\n",
       "      <td>2161.872846</td>\n",
       "      <td>121.260407</td>\n",
       "      <td>19.048398</td>\n",
       "      <td>7.193717</td>\n",
       "    </tr>\n",
       "    <tr>\n",
       "      <th>min</th>\n",
       "      <td>0.000000</td>\n",
       "      <td>0.000000</td>\n",
       "      <td>0.000000</td>\n",
       "      <td>0.000000</td>\n",
       "    </tr>\n",
       "    <tr>\n",
       "      <th>25%</th>\n",
       "      <td>0.000000</td>\n",
       "      <td>0.000000</td>\n",
       "      <td>0.000000</td>\n",
       "      <td>0.000000</td>\n",
       "    </tr>\n",
       "    <tr>\n",
       "      <th>50%</th>\n",
       "      <td>0.000000</td>\n",
       "      <td>0.000000</td>\n",
       "      <td>0.000000</td>\n",
       "      <td>0.000000</td>\n",
       "    </tr>\n",
       "    <tr>\n",
       "      <th>75%</th>\n",
       "      <td>0.000000</td>\n",
       "      <td>0.000000</td>\n",
       "      <td>0.000000</td>\n",
       "      <td>0.000000</td>\n",
       "    </tr>\n",
       "    <tr>\n",
       "      <th>max</th>\n",
       "      <td>64968.000000</td>\n",
       "      <td>2693.000000</td>\n",
       "      <td>1666.000000</td>\n",
       "      <td>832.000000</td>\n",
       "    </tr>\n",
       "  </tbody>\n",
       "</table>\n",
       "</div>"
      ],
      "text/plain": [
       "          attribute2     attribute3     attribute4     attribute7\n",
       "count  122402.000000  122402.000000  122402.000000  122402.000000\n",
       "mean      154.850411       9.160961       1.468742       0.273639\n",
       "std      2161.872846     121.260407      19.048398       7.193717\n",
       "min         0.000000       0.000000       0.000000       0.000000\n",
       "25%         0.000000       0.000000       0.000000       0.000000\n",
       "50%         0.000000       0.000000       0.000000       0.000000\n",
       "75%         0.000000       0.000000       0.000000       0.000000\n",
       "max     64968.000000    2693.000000    1666.000000     832.000000"
      ]
     },
     "execution_count": 12,
     "metadata": {},
     "output_type": "execute_result"
    }
   ],
   "source": [
    "df[['attribute2','attribute3','attribute4','attribute7']].describe()"
   ]
  },
  {
   "cell_type": "code",
   "execution_count": 13,
   "metadata": {},
   "outputs": [
    {
     "name": "stdout",
     "output_type": "stream",
     "text": [
      "attribute2: 0.95\n",
      "attribute3: 0.93\n",
      "attribute4: 0.93\n",
      "attribute7: 0.99\n"
     ]
    }
   ],
   "source": [
    "# what percentage of each is a zero? very high.\n",
    "def lotsa_zeroes(col):\n",
    "    numerator=len(df.loc[df[col]==0])\n",
    "    denominator=len(df[col])\n",
    "    print(col+':', round(numerator/denominator, 2))\n",
    "for i in [2, 3,4,7]:\n",
    "    lotsa_zeroes('attribute'+str(i))"
   ]
  },
  {
   "cell_type": "code",
   "execution_count": 14,
   "metadata": {},
   "outputs": [
    {
     "name": "stdout",
     "output_type": "stream",
     "text": [
      "attribute2\n",
      "0    116301\n",
      "1      6101\n",
      "Name: attribute2, dtype: int64\n",
      "\n",
      "\n",
      "attribute3\n",
      "0    113477\n",
      "1      8925\n",
      "Name: attribute3, dtype: int64\n",
      "\n",
      "\n",
      "attribute4\n",
      "0    113531\n",
      "1      8871\n",
      "Name: attribute4, dtype: int64\n",
      "\n",
      "\n",
      "attribute7\n",
      "0    121012\n",
      "1      1390\n",
      "Name: attribute7, dtype: int64\n",
      "\n",
      "\n"
     ]
    }
   ],
   "source": [
    "# convert each of these into a simple dummy.\n",
    "for col in ['attribute2','attribute3','attribute4','attribute7']:\n",
    "    df.loc[df[col]!=0, col]=1\n",
    "    print(col)\n",
    "    print(df[col].value_counts())\n",
    "    print('\\n')"
   ]
  },
  {
   "cell_type": "code",
   "execution_count": 15,
   "metadata": {},
   "outputs": [
    {
     "name": "stdout",
     "output_type": "stream",
     "text": [
      "Int64Index([ 1,  2,  3,  4,  5,  6,  7,  8,  9, 10, 11, 12, 13, 14, 15, 16, 17,\n",
      "            18, 19, 20, 21, 22, 23, 24, 25, 29, 30, 31, 32, 33, 34, 35, 36, 37,\n",
      "            38, 39, 40, 41, 42, 57, 58, 59, 60, 61, 62, 63, 64, 65, 66, 67, 68,\n",
      "            70, 78, 89, 90, 91, 92, 94, 95, 98],\n",
      "           dtype='int64')\n",
      "60\n"
     ]
    },
    {
     "data": {
      "text/plain": [
       "8     21698\n",
       "9     13428\n",
       "11    12739\n",
       "10    11415\n",
       "7     10995\n",
       "Name: attribute5, dtype: int64"
      ]
     },
     "execution_count": 15,
     "metadata": {},
     "output_type": "execute_result"
    }
   ],
   "source": []
  },
  {
   "cell_type": "markdown",
   "metadata": {},
   "source": [
    "## Gaps in Date"
   ]
  },
  {
   "cell_type": "markdown",
   "metadata": {},
   "source": [
    "there are roughly 20% of the devices where the timeline is not continous"
   ]
  },
  {
   "cell_type": "code",
   "execution_count": 16,
   "metadata": {},
   "outputs": [
    {
     "name": "stdout",
     "output_type": "stream",
     "text": [
      "number of days: 48\n",
      "number of observations: 48\n"
     ]
    }
   ],
   "source": [
    "# here's how it works for one example device:\n",
    "dateslist=list(df.loc[df['device']=='S1F01E6Y']['date'])\n",
    "print('number of days:', ((dateslist[-1]-dateslist[0]).days)+1) # be sure to add one\n",
    "print('number of observations:', len(dateslist))"
   ]
  },
  {
   "cell_type": "code",
   "execution_count": 17,
   "metadata": {},
   "outputs": [],
   "source": [
    "# Make a column counting number of dates observed for each device\n",
    "obscount=df.groupby('device')['date'].count().reset_index(drop=False)\n",
    "obscount=obscount.rename(columns={'date': 'obs_counter'})\n",
    "df=pd.merge(df, obscount, on='device', how='left')"
   ]
  },
  {
   "cell_type": "code",
   "execution_count": 18,
   "metadata": {},
   "outputs": [],
   "source": [
    "# Make a column counting number of days since January 1st, for each device\n",
    "jan1=datetime.strptime('2015-01-01', '%Y-%m-%d')\n",
    "# find the maximum date for each device\n",
    "maxdate=df.groupby('device')['date'].max().reset_index(drop=False)\n",
    "maxdate=maxdate.rename(columns={'date': 'max_date'})\n",
    "# calculate the elapsed days from Jan 1st until max date\n",
    "maxdate['min_date']=pd.to_datetime('2015-01-01')\n",
    "maxdate['ndays']=((maxdate['max_date']-maxdate['min_date']).dt.days)+1\n",
    "# merge this back into the dataframe\n",
    "maxdate=maxdate[['device', 'ndays']]\n",
    "df=pd.merge(df, maxdate, on='device', how='left')"
   ]
  },
  {
   "cell_type": "code",
   "execution_count": 19,
   "metadata": {},
   "outputs": [],
   "source": [
    "# Make a column indicating whether number of observations differs from elapsed days\n",
    "df['date_gap']=df['obs_counter']-df['ndays']\n",
    "df['any_gap']=df['date_gap']!=0"
   ]
  },
  {
   "cell_type": "code",
   "execution_count": 20,
   "metadata": {},
   "outputs": [
    {
     "name": "stdout",
     "output_type": "stream",
     "text": [
      "Total number of devices 851\n",
      "False    0.797885\n",
      "True     0.202115\n",
      "Name: any_gap, dtype: float64\n"
     ]
    }
   ],
   "source": [
    "# About 20% of devices have a gap in their date stream.\n",
    "devices=df.groupby('device')['any_gap', 'failure'].max().reset_index(drop=False)\n",
    "print('Total number of devices',devices['device'].nunique())\n",
    "print(devices['any_gap'].value_counts(normalize=True))\n",
    "values=devices['any_gap'].value_counts().values.tolist()\n",
    "labels=devices['any_gap'].value_counts().index.tolist()\n",
    "colors = ['#48186a', '#d8e219']"
   ]
  },
  {
   "cell_type": "code",
   "execution_count": 21,
   "metadata": {},
   "outputs": [
    {
     "data": {
      "application/vnd.plotly.v1+json": {
       "config": {
        "linkText": "Export to plot.ly",
        "plotlyServerURL": "https://plot.ly",
        "showLink": false
       },
       "data": [
        {
         "hole": 0.4,
         "hoverinfo": "label+percent",
         "labels": [
          false,
          true
         ],
         "marker": {
          "colors": [
           "#48186a",
           "#d8e219"
          ]
         },
         "textinfo": "value",
         "type": "pie",
         "uid": "d9912240-683b-4572-a977-c4e05e1ec82b",
         "values": [
          679,
          172
         ]
        }
       ],
       "layout": {
        "height": 500,
        "title": {
         "text": "Devices with gap in date stream"
        },
        "width": 500
       }
      },
      "text/html": [
       "<div id=\"305b5a72-01f9-433c-9f81-6525a4b17383\" style=\"height: 500px; width: 500px;\" class=\"plotly-graph-div\"></div><script type=\"text/javascript\">require([\"plotly\"], function(Plotly) { window.PLOTLYENV=window.PLOTLYENV || {};window.PLOTLYENV.BASE_URL=\"https://plot.ly\";\n",
       "if (document.getElementById(\"305b5a72-01f9-433c-9f81-6525a4b17383\")) {\n",
       "    Plotly.newPlot(\"305b5a72-01f9-433c-9f81-6525a4b17383\", [{\"hole\": 0.4, \"hoverinfo\": \"label+percent\", \"labels\": [false, true], \"marker\": {\"colors\": [\"#48186a\", \"#d8e219\"]}, \"textinfo\": \"value\", \"values\": [679, 172], \"type\": \"pie\", \"uid\": \"d9912240-683b-4572-a977-c4e05e1ec82b\"}], {\"height\": 500, \"title\": {\"text\": \"Devices with gap in date stream\"}, \"width\": 500}, {\"showLink\": false, \"linkText\": \"Export to plot.ly\", \"plotlyServerURL\": \"https://plot.ly\"}); \n",
       "}\n",
       "});</script>"
      ],
      "text/vnd.plotly.v1+html": [
       "<div id=\"305b5a72-01f9-433c-9f81-6525a4b17383\" style=\"height: 500px; width: 500px;\" class=\"plotly-graph-div\"></div><script type=\"text/javascript\">require([\"plotly\"], function(Plotly) { window.PLOTLYENV=window.PLOTLYENV || {};window.PLOTLYENV.BASE_URL=\"https://plot.ly\";\n",
       "if (document.getElementById(\"305b5a72-01f9-433c-9f81-6525a4b17383\")) {\n",
       "    Plotly.newPlot(\"305b5a72-01f9-433c-9f81-6525a4b17383\", [{\"hole\": 0.4, \"hoverinfo\": \"label+percent\", \"labels\": [false, true], \"marker\": {\"colors\": [\"#48186a\", \"#d8e219\"]}, \"textinfo\": \"value\", \"values\": [679, 172], \"type\": \"pie\", \"uid\": \"d9912240-683b-4572-a977-c4e05e1ec82b\"}], {\"height\": 500, \"title\": {\"text\": \"Devices with gap in date stream\"}, \"width\": 500}, {\"showLink\": false, \"linkText\": \"Export to plot.ly\", \"plotlyServerURL\": \"https://plot.ly\"}); \n",
       "}\n",
       "});</script>"
      ]
     },
     "metadata": {},
     "output_type": "display_data"
    }
   ],
   "source": [
    "data = [go.Pie(labels=labels, \n",
    "               values=values,\n",
    "               hoverinfo='label+percent', \n",
    "               textinfo='value',\n",
    "               hole=.4,\n",
    "               marker=dict(colors=colors)\n",
    "              )]\n",
    "layout=go.Layout(title=\"Devices with gap in date stream\",\n",
    "                    width=500,\n",
    "                    height=500, )\n",
    "fig = go.Figure(data=data, layout=layout)\n",
    "iplot(fig)"
   ]
  },
  {
   "cell_type": "code",
   "execution_count": 22,
   "metadata": {},
   "outputs": [
    {
     "data": {
      "text/html": [
       "<div>\n",
       "<style>\n",
       "    .dataframe thead tr:only-child th {\n",
       "        text-align: right;\n",
       "    }\n",
       "\n",
       "    .dataframe thead th {\n",
       "        text-align: left;\n",
       "    }\n",
       "\n",
       "    .dataframe tbody tr th {\n",
       "        vertical-align: top;\n",
       "    }\n",
       "</style>\n",
       "<table border=\"1\" class=\"dataframe\">\n",
       "  <thead>\n",
       "    <tr style=\"text-align: right;\">\n",
       "      <th>any_gap</th>\n",
       "      <th>False</th>\n",
       "      <th>True</th>\n",
       "    </tr>\n",
       "    <tr>\n",
       "      <th>failure</th>\n",
       "      <th></th>\n",
       "      <th></th>\n",
       "    </tr>\n",
       "  </thead>\n",
       "  <tbody>\n",
       "    <tr>\n",
       "      <th>0</th>\n",
       "      <td>0.789262</td>\n",
       "      <td>0.210738</td>\n",
       "    </tr>\n",
       "    <tr>\n",
       "      <th>1</th>\n",
       "      <td>0.858491</td>\n",
       "      <td>0.141509</td>\n",
       "    </tr>\n",
       "    <tr>\n",
       "      <th>All</th>\n",
       "      <td>0.797885</td>\n",
       "      <td>0.202115</td>\n",
       "    </tr>\n",
       "  </tbody>\n",
       "</table>\n",
       "</div>"
      ],
      "text/plain": [
       "any_gap     False     True \n",
       "failure                    \n",
       "0        0.789262  0.210738\n",
       "1        0.858491  0.141509\n",
       "All      0.797885  0.202115"
      ]
     },
     "execution_count": 22,
     "metadata": {},
     "output_type": "execute_result"
    }
   ],
   "source": [
    "# Among failing devices, the percent with a gap is about the same as without\n",
    "pd.crosstab(devices['failure'], devices['any_gap'], margins=True,normalize='index')"
   ]
  },
  {
   "cell_type": "code",
   "execution_count": 23,
   "metadata": {},
   "outputs": [],
   "source": [
    "values0=devices[devices['failure']==0]['any_gap'].value_counts().values.tolist()\n",
    "values1=devices[devices['failure']==1]['any_gap'].value_counts().values.tolist()"
   ]
  },
  {
   "cell_type": "code",
   "execution_count": 24,
   "metadata": {},
   "outputs": [
    {
     "data": {
      "application/vnd.plotly.v1+json": {
       "config": {
        "linkText": "Export to plot.ly",
        "plotlyServerURL": "https://plot.ly",
        "showLink": false
       },
       "data": [
        {
         "domain": {
          "x": [
           0,
           0.5
          ]
         },
         "hole": 0.4,
         "hoverinfo": "label+percent",
         "labels": [
          false,
          true
         ],
         "marker": {
          "colors": [
           "#48186a",
           "#d8e219"
          ]
         },
         "textinfo": "value",
         "type": "pie",
         "uid": "5d03f540-6117-43d5-8a1b-420618a8a87d",
         "values": [
          588,
          157
         ]
        },
        {
         "domain": {
          "x": [
           0.5,
           1
          ]
         },
         "hole": 0.4,
         "hoverinfo": "label+percent",
         "labels": [
          false,
          true
         ],
         "marker": {
          "colors": [
           "#48186a",
           "#d8e219"
          ]
         },
         "textinfo": "value",
         "type": "pie",
         "uid": "2da507a1-3e68-4aa1-88a2-9d74921a031b",
         "values": [
          91,
          15
         ]
        }
       ],
       "layout": {
        "height": 500,
        "title": {
         "text": "Devices with gap in date stream"
        },
        "width": 1000
       }
      },
      "text/html": [
       "<div id=\"37a00079-3cb1-4c3d-a03a-469a8bd5f3f9\" style=\"height: 500px; width: 1000px;\" class=\"plotly-graph-div\"></div><script type=\"text/javascript\">require([\"plotly\"], function(Plotly) { window.PLOTLYENV=window.PLOTLYENV || {};window.PLOTLYENV.BASE_URL=\"https://plot.ly\";\n",
       "if (document.getElementById(\"37a00079-3cb1-4c3d-a03a-469a8bd5f3f9\")) {\n",
       "    Plotly.newPlot(\"37a00079-3cb1-4c3d-a03a-469a8bd5f3f9\", [{\"domain\": {\"x\": [0, 0.5]}, \"hole\": 0.4, \"hoverinfo\": \"label+percent\", \"labels\": [false, true], \"marker\": {\"colors\": [\"#48186a\", \"#d8e219\"]}, \"textinfo\": \"value\", \"values\": [588, 157], \"type\": \"pie\", \"uid\": \"5d03f540-6117-43d5-8a1b-420618a8a87d\"}, {\"domain\": {\"x\": [0.5, 1]}, \"hole\": 0.4, \"hoverinfo\": \"label+percent\", \"labels\": [false, true], \"marker\": {\"colors\": [\"#48186a\", \"#d8e219\"]}, \"textinfo\": \"value\", \"values\": [91, 15], \"type\": \"pie\", \"uid\": \"2da507a1-3e68-4aa1-88a2-9d74921a031b\"}], {\"height\": 500, \"title\": {\"text\": \"Devices with gap in date stream\"}, \"width\": 1000}, {\"showLink\": false, \"linkText\": \"Export to plot.ly\", \"plotlyServerURL\": \"https://plot.ly\"}); \n",
       "}\n",
       "});</script>"
      ],
      "text/vnd.plotly.v1+html": [
       "<div id=\"37a00079-3cb1-4c3d-a03a-469a8bd5f3f9\" style=\"height: 500px; width: 1000px;\" class=\"plotly-graph-div\"></div><script type=\"text/javascript\">require([\"plotly\"], function(Plotly) { window.PLOTLYENV=window.PLOTLYENV || {};window.PLOTLYENV.BASE_URL=\"https://plot.ly\";\n",
       "if (document.getElementById(\"37a00079-3cb1-4c3d-a03a-469a8bd5f3f9\")) {\n",
       "    Plotly.newPlot(\"37a00079-3cb1-4c3d-a03a-469a8bd5f3f9\", [{\"domain\": {\"x\": [0, 0.5]}, \"hole\": 0.4, \"hoverinfo\": \"label+percent\", \"labels\": [false, true], \"marker\": {\"colors\": [\"#48186a\", \"#d8e219\"]}, \"textinfo\": \"value\", \"values\": [588, 157], \"type\": \"pie\", \"uid\": \"5d03f540-6117-43d5-8a1b-420618a8a87d\"}, {\"domain\": {\"x\": [0.5, 1]}, \"hole\": 0.4, \"hoverinfo\": \"label+percent\", \"labels\": [false, true], \"marker\": {\"colors\": [\"#48186a\", \"#d8e219\"]}, \"textinfo\": \"value\", \"values\": [91, 15], \"type\": \"pie\", \"uid\": \"2da507a1-3e68-4aa1-88a2-9d74921a031b\"}], {\"height\": 500, \"title\": {\"text\": \"Devices with gap in date stream\"}, \"width\": 1000}, {\"showLink\": false, \"linkText\": \"Export to plot.ly\", \"plotlyServerURL\": \"https://plot.ly\"}); \n",
       "}\n",
       "});</script>"
      ]
     },
     "metadata": {},
     "output_type": "display_data"
    }
   ],
   "source": [
    "from plotly import tools\n",
    "trace0 = go.Pie(labels=labels, \n",
    "               values=values0,\n",
    "               hoverinfo='label+percent', \n",
    "               textinfo='value',\n",
    "               hole=.4,\n",
    "               marker=dict(colors=colors),\n",
    "                domain={\"x\": [0, .5]}\n",
    "              )\n",
    "trace1 = go.Pie(labels=labels, \n",
    "               values=values1,\n",
    "               hoverinfo='label+percent', \n",
    "               textinfo='value',\n",
    "               hole=.4,\n",
    "               marker=dict(colors=colors),\n",
    "                 domain={\"x\": [.5, 1]}\n",
    "              )\n",
    "\n",
    "data=[trace0,trace1]\n",
    "layout=go.Layout(title=\"Devices with gap in date stream\",            \n",
    "                    width=1000,\n",
    "                    height=500, )\n",
    "fig = go.Figure(data=data, layout=layout)\n",
    "\n",
    "iplot(fig)"
   ]
  },
  {
   "cell_type": "code",
   "execution_count": 25,
   "metadata": {},
   "outputs": [
    {
     "data": {
      "text/html": [
       "<div>\n",
       "<style>\n",
       "    .dataframe thead tr:only-child th {\n",
       "        text-align: right;\n",
       "    }\n",
       "\n",
       "    .dataframe thead th {\n",
       "        text-align: left;\n",
       "    }\n",
       "\n",
       "    .dataframe tbody tr th {\n",
       "        vertical-align: top;\n",
       "    }\n",
       "</style>\n",
       "<table border=\"1\" class=\"dataframe\">\n",
       "  <thead>\n",
       "    <tr style=\"text-align: right;\">\n",
       "      <th></th>\n",
       "      <th></th>\n",
       "      <th>device</th>\n",
       "    </tr>\n",
       "    <tr>\n",
       "      <th>any_gap</th>\n",
       "      <th>failure</th>\n",
       "      <th></th>\n",
       "    </tr>\n",
       "  </thead>\n",
       "  <tbody>\n",
       "    <tr>\n",
       "      <th rowspan=\"2\" valign=\"top\">False</th>\n",
       "      <th>0</th>\n",
       "      <td>588</td>\n",
       "    </tr>\n",
       "    <tr>\n",
       "      <th>1</th>\n",
       "      <td>91</td>\n",
       "    </tr>\n",
       "    <tr>\n",
       "      <th rowspan=\"2\" valign=\"top\">True</th>\n",
       "      <th>0</th>\n",
       "      <td>157</td>\n",
       "    </tr>\n",
       "    <tr>\n",
       "      <th>1</th>\n",
       "      <td>15</td>\n",
       "    </tr>\n",
       "  </tbody>\n",
       "</table>\n",
       "</div>"
      ],
      "text/plain": [
       "                 device\n",
       "any_gap failure        \n",
       "False   0           588\n",
       "        1            91\n",
       "True    0           157\n",
       "        1            15"
      ]
     },
     "execution_count": 25,
     "metadata": {},
     "output_type": "execute_result"
    }
   ],
   "source": [
    "results=pd.DataFrame(devices.groupby(['any_gap','failure']).count())\n",
    "results"
   ]
  },
  {
   "cell_type": "code",
   "execution_count": 26,
   "metadata": {},
   "outputs": [
    {
     "data": {
      "text/plain": [
       "failure\n",
       "0    588\n",
       "1     91\n",
       "Name: device, dtype: int64"
      ]
     },
     "execution_count": 26,
     "metadata": {},
     "output_type": "execute_result"
    }
   ],
   "source": [
    "results.loc[0]['device']"
   ]
  },
  {
   "cell_type": "code",
   "execution_count": 27,
   "metadata": {},
   "outputs": [
    {
     "data": {
      "application/vnd.plotly.v1+json": {
       "config": {
        "linkText": "Export to plot.ly",
        "plotlyServerURL": "https://plot.ly",
        "showLink": false
       },
       "data": [
        {
         "marker": {
          "color": "#440154"
         },
         "name": "Did not fail",
         "type": "bar",
         "uid": "011536d5-7a60-46f4-80fe-5a643f347d2e",
         "x": [
          0,
          1
         ],
         "y": [
          588,
          91
         ]
        },
        {
         "marker": {
          "color": "#28ae80"
         },
         "name": "Failed",
         "type": "bar",
         "uid": "f8a82c25-a720-4da9-b4ff-854aca4df1ec",
         "x": [
          0,
          1
         ],
         "y": [
          157,
          15
         ]
        }
       ],
       "layout": {
        "height": 500,
        "title": {
         "text": "Date gap by failure"
        },
        "width": 500,
        "xaxis": {
         "title": {
          "text": "Has a gap in recorded date range"
         }
        },
        "yaxis": {
         "title": {
          "text": "Number of Devices"
         }
        }
       }
      },
      "text/html": [
       "<div id=\"b23bfc60-0afc-4f04-ae31-e859d3edf8b4\" style=\"height: 500px; width: 500px;\" class=\"plotly-graph-div\"></div><script type=\"text/javascript\">require([\"plotly\"], function(Plotly) { window.PLOTLYENV=window.PLOTLYENV || {};window.PLOTLYENV.BASE_URL=\"https://plot.ly\";\n",
       "if (document.getElementById(\"b23bfc60-0afc-4f04-ae31-e859d3edf8b4\")) {\n",
       "    Plotly.newPlot(\"b23bfc60-0afc-4f04-ae31-e859d3edf8b4\", [{\"marker\": {\"color\": \"#440154\"}, \"name\": \"Did not fail\", \"x\": [0, 1], \"y\": [588, 91], \"type\": \"bar\", \"uid\": \"011536d5-7a60-46f4-80fe-5a643f347d2e\"}, {\"marker\": {\"color\": \"#28ae80\"}, \"name\": \"Failed\", \"x\": [0, 1], \"y\": [157, 15], \"type\": \"bar\", \"uid\": \"f8a82c25-a720-4da9-b4ff-854aca4df1ec\"}], {\"height\": 500, \"title\": {\"text\": \"Date gap by failure\"}, \"width\": 500, \"xaxis\": {\"title\": {\"text\": \"Has a gap in recorded date range\"}}, \"yaxis\": {\"title\": {\"text\": \"Number of Devices\"}}}, {\"showLink\": false, \"linkText\": \"Export to plot.ly\", \"plotlyServerURL\": \"https://plot.ly\"}); \n",
       "}\n",
       "});</script>"
      ],
      "text/vnd.plotly.v1+html": [
       "<div id=\"b23bfc60-0afc-4f04-ae31-e859d3edf8b4\" style=\"height: 500px; width: 500px;\" class=\"plotly-graph-div\"></div><script type=\"text/javascript\">require([\"plotly\"], function(Plotly) { window.PLOTLYENV=window.PLOTLYENV || {};window.PLOTLYENV.BASE_URL=\"https://plot.ly\";\n",
       "if (document.getElementById(\"b23bfc60-0afc-4f04-ae31-e859d3edf8b4\")) {\n",
       "    Plotly.newPlot(\"b23bfc60-0afc-4f04-ae31-e859d3edf8b4\", [{\"marker\": {\"color\": \"#440154\"}, \"name\": \"Did not fail\", \"x\": [0, 1], \"y\": [588, 91], \"type\": \"bar\", \"uid\": \"011536d5-7a60-46f4-80fe-5a643f347d2e\"}, {\"marker\": {\"color\": \"#28ae80\"}, \"name\": \"Failed\", \"x\": [0, 1], \"y\": [157, 15], \"type\": \"bar\", \"uid\": \"f8a82c25-a720-4da9-b4ff-854aca4df1ec\"}], {\"height\": 500, \"title\": {\"text\": \"Date gap by failure\"}, \"width\": 500, \"xaxis\": {\"title\": {\"text\": \"Has a gap in recorded date range\"}}, \"yaxis\": {\"title\": {\"text\": \"Number of Devices\"}}}, {\"showLink\": false, \"linkText\": \"Export to plot.ly\", \"plotlyServerURL\": \"https://plot.ly\"}); \n",
       "}\n",
       "});</script>"
      ]
     },
     "metadata": {},
     "output_type": "display_data"
    }
   ],
   "source": [
    "# Let's display that with plotly.\n",
    "mydata1 = go.Bar(\n",
    "    x=results.loc[0].index,\n",
    "    y=results.loc[0]['device'],\n",
    "    name='Did not fail',\n",
    "    marker=dict(color=Viridis[0])\n",
    ")\n",
    "mydata2 = go.Bar(\n",
    "    x=results.loc[1].index,\n",
    "    y=results.loc[1]['device'],\n",
    "    name='Failed',\n",
    "    marker=dict(color=Viridis[10])\n",
    ")\n",
    "\n",
    "mylayout = go.Layout(\n",
    "    title='Date gap by failure',\n",
    "    xaxis = dict(title = 'Has a gap in recorded date range'), # x-axis label\n",
    "    yaxis = dict(title = 'Number of Devices'), # y-axis label\n",
    "                    width=500,\n",
    "                    height=500, \n",
    ")\n",
    "fig = go.Figure(data=[mydata1, mydata2], layout=mylayout)\n",
    "iplot(fig)"
   ]
  },
  {
   "cell_type": "code",
   "execution_count": 28,
   "metadata": {},
   "outputs": [],
   "source": [
    "# Make a list of devices with a gap in dates.\n",
    "bad_devices=devices.loc[devices['any_gap']==True]['device']"
   ]
  },
  {
   "cell_type": "code",
   "execution_count": 29,
   "metadata": {},
   "outputs": [
    {
     "name": "stdout",
     "output_type": "stream",
     "text": [
      "(122402, 15)\n",
      "(851, 3)\n",
      "(93701, 15)\n",
      "(679, 3)\n"
     ]
    }
   ],
   "source": [
    "# We can either impute this data, or drop these devices. Let's drop them.\n",
    "print(df.shape)\n",
    "print(devices.shape)\n",
    "# drop them.\n",
    "df=df.loc[~df['device'].isin(bad_devices)]\n",
    "devices=devices.loc[~devices['device'].isin(bad_devices)]\n",
    "print(df.shape)\n",
    "print(devices.shape)"
   ]
  },
  {
   "cell_type": "markdown",
   "metadata": {},
   "source": [
    "## Zip the data file"
   ]
  },
  {
   "cell_type": "code",
   "execution_count": 30,
   "metadata": {},
   "outputs": [
    {
     "data": {
      "text/plain": [
       "Index(['date', 'device', 'failure', 'attribute1', 'attribute2', 'attribute3',\n",
       "       'attribute4', 'attribute5', 'attribute6', 'attribute7', 'prefix',\n",
       "       'obs_counter', 'ndays', 'date_gap', 'any_gap'],\n",
       "      dtype='object')"
      ]
     },
     "execution_count": 30,
     "metadata": {},
     "output_type": "execute_result"
    }
   ],
   "source": [
    "pd.options.display.max_seq_items = 2000\n",
    "df.columns"
   ]
  },
  {
   "cell_type": "code",
   "execution_count": 31,
   "metadata": {},
   "outputs": [],
   "source": [
    "df=df[['date', 'device', 'failure', 'attribute1', 'attribute2', 'attribute3',\n",
    "       'attribute4', 'attribute5', 'attribute6', 'attribute7', 'prefix',\n",
    "       'ndays', 'any_gap']]"
   ]
  },
  {
   "cell_type": "code",
   "execution_count": 32,
   "metadata": {},
   "outputs": [
    {
     "name": "stdout",
     "output_type": "stream",
     "text": [
      "(93701, 13)\n"
     ]
    }
   ],
   "source": [
    "df.to_csv('data/dataset3.gz', compression='gzip', index=False)\n",
    "print(df.shape)"
   ]
  },
  {
   "cell_type": "code",
   "execution_count": 33,
   "metadata": {},
   "outputs": [
    {
     "data": {
      "text/plain": [
       "dtype('<M8[ns]')"
      ]
     },
     "execution_count": 33,
     "metadata": {},
     "output_type": "execute_result"
    }
   ],
   "source": [
    "df['date'].dtype"
   ]
  },
  {
   "cell_type": "code",
   "execution_count": null,
   "metadata": {},
   "outputs": [],
   "source": []
  }
 ],
 "metadata": {
  "kernelspec": {
   "display_name": "Python 3",
   "language": "python",
   "name": "python3"
  },
  "language_info": {
   "codemirror_mode": {
    "name": "ipython",
    "version": 3
   },
   "file_extension": ".py",
   "mimetype": "text/x-python",
   "name": "python",
   "nbconvert_exporter": "python",
   "pygments_lexer": "ipython3",
   "version": "3.6.8"
  }
 },
 "nbformat": 4,
 "nbformat_minor": 2
}
